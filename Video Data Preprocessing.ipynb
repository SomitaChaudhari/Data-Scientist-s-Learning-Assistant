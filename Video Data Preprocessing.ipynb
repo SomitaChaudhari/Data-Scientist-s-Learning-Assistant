{
 "cells": [
  {
   "cell_type": "code",
   "execution_count": null,
   "id": "2d79b510-731e-4304-ad5f-ff1eb6726c9d",
   "metadata": {},
   "outputs": [],
   "source": [
    "import os\n",
    "from moviepy.editor import VideoFileClip\n",
    "import subprocess\n",
    "\n"
   ]
  },
  {
   "cell_type": "code",
   "execution_count": null,
   "id": "05a8d645-7c4a-4164-9236-8c3accf496ed",
   "metadata": {},
   "outputs": [],
   "source": [
    "\n",
    "video_dir = \"/Users/somitachaudhari/Adv AI /Data/Video\"\n",
    "output_audio_dir = \"/Users/somitachaudhari/Adv AI /Preprocessed Videos/Audio Files\"\n",
    "os.makedirs(output_audio_dir, exist_ok=True)\n"
   ]
  },
  {
   "cell_type": "code",
   "execution_count": 26,
   "id": "b2922066-fd68-4421-a18d-c3dc4aed5ad1",
   "metadata": {},
   "outputs": [
    {
     "name": "stdout",
     "output_type": "stream",
     "text": [
      "Processing: /Users/somitachaudhari/Adv AI /Data/Video/Derivatives _ Deep Learning Tutorial 9 (Tensorflow Tutorial, Keras & Python) (1).mp4\n",
      "MoviePy - Writing audio in /Users/somitachaudhari/Adv AI /Preprocessed Videos/Audio Files/Derivatives _ Deep Learning Tutorial 9 (Tensorflow Tutorial, Keras & Python) (1).wav\n"
     ]
    },
    {
     "name": "stderr",
     "output_type": "stream",
     "text": [
      "                                                                        \r"
     ]
    },
    {
     "name": "stdout",
     "output_type": "stream",
     "text": [
      "MoviePy - Done.\n",
      "Audio extracted for: /Users/somitachaudhari/Adv AI /Data/Video/Derivatives _ Deep Learning Tutorial 9 (Tensorflow Tutorial, Keras & Python) (1).mp4\n",
      "Processing: /Users/somitachaudhari/Adv AI /Data/Video/Text Classification Using BERT & Tensorflow _ Deep Learning Tutorial 47 (Tensorflow, Keras & Python).mp4\n",
      "MoviePy - Writing audio in /Users/somitachaudhari/Adv AI /Preprocessed Videos/Audio Files/Text Classification Using BERT & Tensorflow _ Deep Learning Tutorial 47 (Tensorflow, Keras & Python).wav\n"
     ]
    },
    {
     "name": "stderr",
     "output_type": "stream",
     "text": [
      "                                                                        \r"
     ]
    },
    {
     "name": "stdout",
     "output_type": "stream",
     "text": [
      "MoviePy - Done.\n",
      "Audio extracted for: /Users/somitachaudhari/Adv AI /Data/Video/Text Classification Using BERT & Tensorflow _ Deep Learning Tutorial 47 (Tensorflow, Keras & Python).mp4\n",
      "Processing: /Users/somitachaudhari/Adv AI /Data/Video/Machine Learning Tutorial Python - 13_  K Means Clustering Algorithm.mp4\n",
      "MoviePy - Writing audio in /Users/somitachaudhari/Adv AI /Preprocessed Videos/Audio Files/Machine Learning Tutorial Python - 13_  K Means Clustering Algorithm.wav\n"
     ]
    },
    {
     "name": "stderr",
     "output_type": "stream",
     "text": [
      "                                                                        \r"
     ]
    },
    {
     "name": "stdout",
     "output_type": "stream",
     "text": [
      "MoviePy - Done.\n",
      "Audio extracted for: /Users/somitachaudhari/Adv AI /Data/Video/Machine Learning Tutorial Python - 13_  K Means Clustering Algorithm.mp4\n",
      "Processing: /Users/somitachaudhari/Adv AI /Data/Video/Customer churn prediction using ANN _ Deep Learning Tutorial 18 (Tensorflow2.0, Keras & Python).mp4\n",
      "MoviePy - Writing audio in /Users/somitachaudhari/Adv AI /Preprocessed Videos/Audio Files/Customer churn prediction using ANN _ Deep Learning Tutorial 18 (Tensorflow2.0, Keras & Python).wav\n"
     ]
    },
    {
     "name": "stderr",
     "output_type": "stream",
     "text": [
      "                                                                        \r"
     ]
    },
    {
     "name": "stdout",
     "output_type": "stream",
     "text": [
      "MoviePy - Done.\n",
      "Audio extracted for: /Users/somitachaudhari/Adv AI /Data/Video/Customer churn prediction using ANN _ Deep Learning Tutorial 18 (Tensorflow2.0, Keras & Python).mp4\n",
      "Processing: /Users/somitachaudhari/Adv AI /Data/Video/Tensorflow Input Pipeline _ tf Dataset _ Deep Learning Tutorial 44 (Tensorflow, Keras & Python).mp4\n",
      "MoviePy - Writing audio in /Users/somitachaudhari/Adv AI /Preprocessed Videos/Audio Files/Tensorflow Input Pipeline _ tf Dataset _ Deep Learning Tutorial 44 (Tensorflow, Keras & Python).wav\n"
     ]
    },
    {
     "name": "stderr",
     "output_type": "stream",
     "text": [
      "                                                                        \r"
     ]
    },
    {
     "name": "stdout",
     "output_type": "stream",
     "text": [
      "MoviePy - Done.\n",
      "Audio extracted for: /Users/somitachaudhari/Adv AI /Data/Video/Tensorflow Input Pipeline _ tf Dataset _ Deep Learning Tutorial 44 (Tensorflow, Keras & Python).mp4\n",
      "Processing: /Users/somitachaudhari/Adv AI /Data/Video/Machine Learning Tutorial Python - 8_  Logistic Regression (Binary Classification).mp4\n",
      "MoviePy - Writing audio in /Users/somitachaudhari/Adv AI /Preprocessed Videos/Audio Files/Machine Learning Tutorial Python - 8_  Logistic Regression (Binary Classification).wav\n"
     ]
    },
    {
     "name": "stderr",
     "output_type": "stream",
     "text": [
      "                                                                        \r"
     ]
    },
    {
     "name": "stdout",
     "output_type": "stream",
     "text": [
      "MoviePy - Done.\n",
      "Audio extracted for: /Users/somitachaudhari/Adv AI /Data/Video/Machine Learning Tutorial Python - 8_  Logistic Regression (Binary Classification).mp4\n",
      "Processing: /Users/somitachaudhari/Adv AI /Data/Video/Gradient Descent For Neural Network _ Deep Learning Tutorial 12 (Tensorflow2.0, Keras & Python) (2).mp4\n",
      "MoviePy - Writing audio in /Users/somitachaudhari/Adv AI /Preprocessed Videos/Audio Files/Gradient Descent For Neural Network _ Deep Learning Tutorial 12 (Tensorflow2.0, Keras & Python) (2).wav\n"
     ]
    },
    {
     "name": "stderr",
     "output_type": "stream",
     "text": [
      "                                                                        \r"
     ]
    },
    {
     "name": "stdout",
     "output_type": "stream",
     "text": [
      "MoviePy - Done.\n",
      "Audio extracted for: /Users/somitachaudhari/Adv AI /Data/Video/Gradient Descent For Neural Network _ Deep Learning Tutorial 12 (Tensorflow2.0, Keras & Python) (2).mp4\n",
      "Processing: /Users/somitachaudhari/Adv AI /Data/Video/What is Word2Vec_ A Simple Explanation _ Deep Learning Tutorial 41 (Tensorflow, Keras & Python).mp4\n",
      "MoviePy - Writing audio in /Users/somitachaudhari/Adv AI /Preprocessed Videos/Audio Files/What is Word2Vec_ A Simple Explanation _ Deep Learning Tutorial 41 (Tensorflow, Keras & Python).wav\n"
     ]
    },
    {
     "name": "stderr",
     "output_type": "stream",
     "text": [
      "                                                                        \r"
     ]
    },
    {
     "name": "stdout",
     "output_type": "stream",
     "text": [
      "MoviePy - Done.\n",
      "Audio extracted for: /Users/somitachaudhari/Adv AI /Data/Video/What is Word2Vec_ A Simple Explanation _ Deep Learning Tutorial 41 (Tensorflow, Keras & Python).mp4\n",
      "Processing: /Users/somitachaudhari/Adv AI /Data/Video/Neural Network For Handwritten Digits Classification _ Deep Learning Tutorial 7 (Tensorflow2.0).mp4\n",
      "MoviePy - Writing audio in /Users/somitachaudhari/Adv AI /Preprocessed Videos/Audio Files/Neural Network For Handwritten Digits Classification _ Deep Learning Tutorial 7 (Tensorflow2.0).wav\n"
     ]
    },
    {
     "name": "stderr",
     "output_type": "stream",
     "text": [
      "                                                                        \r"
     ]
    },
    {
     "name": "stdout",
     "output_type": "stream",
     "text": [
      "MoviePy - Done.\n",
      "Audio extracted for: /Users/somitachaudhari/Adv AI /Data/Video/Neural Network For Handwritten Digits Classification _ Deep Learning Tutorial 7 (Tensorflow2.0).mp4\n",
      "Processing: /Users/somitachaudhari/Adv AI /Data/Video/Simple Explanation of GRU (Gated Recurrent Units) _ Deep Learning Tutorial 37 (Tensorflow & Python).mp4\n",
      "MoviePy - Writing audio in /Users/somitachaudhari/Adv AI /Preprocessed Videos/Audio Files/Simple Explanation of GRU (Gated Recurrent Units) _ Deep Learning Tutorial 37 (Tensorflow & Python).wav\n"
     ]
    },
    {
     "name": "stderr",
     "output_type": "stream",
     "text": [
      "                                                                        \r"
     ]
    },
    {
     "name": "stdout",
     "output_type": "stream",
     "text": [
      "MoviePy - Done.\n",
      "Audio extracted for: /Users/somitachaudhari/Adv AI /Data/Video/Simple Explanation of GRU (Gated Recurrent Units) _ Deep Learning Tutorial 37 (Tensorflow & Python).mp4\n",
      "Processing: /Users/somitachaudhari/Adv AI /Data/Video/Deep learning project end to end _ Potato Disease Classification Using CNN - 1 _ Problem Statement.mp4\n",
      "MoviePy - Writing audio in /Users/somitachaudhari/Adv AI /Preprocessed Videos/Audio Files/Deep learning project end to end _ Potato Disease Classification Using CNN - 1 _ Problem Statement.wav\n"
     ]
    },
    {
     "name": "stderr",
     "output_type": "stream",
     "text": [
      "                                                                        \r"
     ]
    },
    {
     "name": "stdout",
     "output_type": "stream",
     "text": [
      "MoviePy - Done.\n",
      "Audio extracted for: /Users/somitachaudhari/Adv AI /Data/Video/Deep learning project end to end _ Potato Disease Classification Using CNN - 1 _ Problem Statement.mp4\n",
      "Processing: /Users/somitachaudhari/Adv AI /Data/Video/Gradient Descent For Neural Network _ Deep Learning Tutorial 12 (Tensorflow2.0, Keras & Python) (3).mp4\n",
      "MoviePy - Writing audio in /Users/somitachaudhari/Adv AI /Preprocessed Videos/Audio Files/Gradient Descent For Neural Network _ Deep Learning Tutorial 12 (Tensorflow2.0, Keras & Python) (3).wav\n"
     ]
    },
    {
     "name": "stderr",
     "output_type": "stream",
     "text": [
      "                                                                        \r"
     ]
    },
    {
     "name": "stdout",
     "output_type": "stream",
     "text": [
      "MoviePy - Done.\n",
      "Audio extracted for: /Users/somitachaudhari/Adv AI /Data/Video/Gradient Descent For Neural Network _ Deep Learning Tutorial 12 (Tensorflow2.0, Keras & Python) (3).mp4\n",
      "Processing: /Users/somitachaudhari/Adv AI /Data/Video/Data Science & Machine Learning Project - Part 8 Deployment & Exercise _ Image Classification.mp4\n",
      "MoviePy - Writing audio in /Users/somitachaudhari/Adv AI /Preprocessed Videos/Audio Files/Data Science & Machine Learning Project - Part 8 Deployment & Exercise _ Image Classification.wav\n"
     ]
    },
    {
     "name": "stderr",
     "output_type": "stream",
     "text": [
      "                                                                      \r"
     ]
    },
    {
     "name": "stdout",
     "output_type": "stream",
     "text": [
      "MoviePy - Done.\n",
      "Audio extracted for: /Users/somitachaudhari/Adv AI /Data/Video/Data Science & Machine Learning Project - Part 8 Deployment & Exercise _ Image Classification.mp4\n",
      "Processing: /Users/somitachaudhari/Adv AI /Data/Video/Machine Learning Tutorial Python - 2_ Linear Regression Single Variable.mp4\n",
      "MoviePy - Writing audio in /Users/somitachaudhari/Adv AI /Preprocessed Videos/Audio Files/Machine Learning Tutorial Python - 2_ Linear Regression Single Variable.wav\n"
     ]
    },
    {
     "name": "stderr",
     "output_type": "stream",
     "text": [
      "                                                                        \r"
     ]
    },
    {
     "name": "stdout",
     "output_type": "stream",
     "text": [
      "MoviePy - Done.\n",
      "Audio extracted for: /Users/somitachaudhari/Adv AI /Data/Video/Machine Learning Tutorial Python - 2_ Linear Regression Single Variable.mp4\n",
      "Processing: /Users/somitachaudhari/Adv AI /Data/Video/Tensorboard Introduction _ Deep Learning Tutorial 16 (Tensorflow2.0, Keras & Python).mp4\n",
      "MoviePy - Writing audio in /Users/somitachaudhari/Adv AI /Preprocessed Videos/Audio Files/Tensorboard Introduction _ Deep Learning Tutorial 16 (Tensorflow2.0, Keras & Python).wav\n"
     ]
    },
    {
     "name": "stderr",
     "output_type": "stream",
     "text": [
      "                                                                        \r"
     ]
    },
    {
     "name": "stdout",
     "output_type": "stream",
     "text": [
      "MoviePy - Done.\n",
      "Audio extracted for: /Users/somitachaudhari/Adv AI /Data/Video/Tensorboard Introduction _ Deep Learning Tutorial 16 (Tensorflow2.0, Keras & Python).mp4\n",
      "Processing: /Users/somitachaudhari/Adv AI /Data/Video/Machine Learning Tutorial Python - 20_ Bias vs Variance In Machine Learning (1).mp4\n",
      "MoviePy - Writing audio in /Users/somitachaudhari/Adv AI /Preprocessed Videos/Audio Files/Machine Learning Tutorial Python - 20_ Bias vs Variance In Machine Learning (1).wav\n"
     ]
    },
    {
     "name": "stderr",
     "output_type": "stream",
     "text": [
      "                                                                        \r"
     ]
    },
    {
     "name": "stdout",
     "output_type": "stream",
     "text": [
      "MoviePy - Done.\n",
      "Audio extracted for: /Users/somitachaudhari/Adv AI /Data/Video/Machine Learning Tutorial Python - 20_ Bias vs Variance In Machine Learning (1).mp4\n",
      "Processing: /Users/somitachaudhari/Adv AI /Data/Video/GPU bench-marking with image classification _ Deep Learning Tutorial 17 (Tensorflow2.0, Python) (1).mp4\n",
      "MoviePy - Writing audio in /Users/somitachaudhari/Adv AI /Preprocessed Videos/Audio Files/GPU bench-marking with image classification _ Deep Learning Tutorial 17 (Tensorflow2.0, Python) (1).wav\n"
     ]
    },
    {
     "name": "stderr",
     "output_type": "stream",
     "text": [
      "                                                                        \r"
     ]
    },
    {
     "name": "stdout",
     "output_type": "stream",
     "text": [
      "MoviePy - Done.\n",
      "Audio extracted for: /Users/somitachaudhari/Adv AI /Data/Video/GPU bench-marking with image classification _ Deep Learning Tutorial 17 (Tensorflow2.0, Python) (1).mp4\n",
      "Processing: /Users/somitachaudhari/Adv AI /Data/Video/Neural Network Simply Explained _ Deep Learning Tutorial 4 (Tensorflow2.0, Keras & Python).mp4\n",
      "MoviePy - Writing audio in /Users/somitachaudhari/Adv AI /Preprocessed Videos/Audio Files/Neural Network Simply Explained _ Deep Learning Tutorial 4 (Tensorflow2.0, Keras & Python).wav\n"
     ]
    },
    {
     "name": "stderr",
     "output_type": "stream",
     "text": [
      "                                                                        \r"
     ]
    },
    {
     "name": "stdout",
     "output_type": "stream",
     "text": [
      "MoviePy - Done.\n",
      "Audio extracted for: /Users/somitachaudhari/Adv AI /Data/Video/Neural Network Simply Explained _ Deep Learning Tutorial 4 (Tensorflow2.0, Keras & Python).mp4\n",
      "Processing: /Users/somitachaudhari/Adv AI /Data/Video/What is a neuron_ _ Deep Learning Tutorial 3 (Tensorflow Tutorial, Keras & Python).mp4\n",
      "MoviePy - Writing audio in /Users/somitachaudhari/Adv AI /Preprocessed Videos/Audio Files/What is a neuron_ _ Deep Learning Tutorial 3 (Tensorflow Tutorial, Keras & Python).wav\n"
     ]
    },
    {
     "name": "stderr",
     "output_type": "stream",
     "text": [
      "                                                                        \r"
     ]
    },
    {
     "name": "stdout",
     "output_type": "stream",
     "text": [
      "MoviePy - Done.\n",
      "Audio extracted for: /Users/somitachaudhari/Adv AI /Data/Video/What is a neuron_ _ Deep Learning Tutorial 3 (Tensorflow Tutorial, Keras & Python).mp4\n",
      "Processing: /Users/somitachaudhari/Adv AI /Data/Video/Gradient Descent For Neural Network _ Deep Learning Tutorial 12 (Tensorflow2.0, Keras & Python) (4).mp4\n",
      "MoviePy - Writing audio in /Users/somitachaudhari/Adv AI /Preprocessed Videos/Audio Files/Gradient Descent For Neural Network _ Deep Learning Tutorial 12 (Tensorflow2.0, Keras & Python) (4).wav\n"
     ]
    },
    {
     "name": "stderr",
     "output_type": "stream",
     "text": [
      "                                                                        \r"
     ]
    },
    {
     "name": "stdout",
     "output_type": "stream",
     "text": [
      "MoviePy - Done.\n",
      "Audio extracted for: /Users/somitachaudhari/Adv AI /Data/Video/Gradient Descent For Neural Network _ Deep Learning Tutorial 12 (Tensorflow2.0, Keras & Python) (4).mp4\n",
      "Processing: /Users/somitachaudhari/Adv AI /Data/Video/Data Science & Machine Learning Project - Part 1 Introduction _ Image Classification.mp4\n",
      "MoviePy - Writing audio in /Users/somitachaudhari/Adv AI /Preprocessed Videos/Audio Files/Data Science & Machine Learning Project - Part 1 Introduction _ Image Classification.wav\n"
     ]
    },
    {
     "name": "stderr",
     "output_type": "stream",
     "text": [
      "                                                                      \r"
     ]
    },
    {
     "name": "stdout",
     "output_type": "stream",
     "text": [
      "MoviePy - Done.\n",
      "Audio extracted for: /Users/somitachaudhari/Adv AI /Data/Video/Data Science & Machine Learning Project - Part 1 Introduction _ Image Classification.mp4\n",
      "Processing: /Users/somitachaudhari/Adv AI /Data/Video/Gradient Descent For Neural Network _ Deep Learning Tutorial 12 (Tensorflow2.0, Keras & Python).mp4\n",
      "MoviePy - Writing audio in /Users/somitachaudhari/Adv AI /Preprocessed Videos/Audio Files/Gradient Descent For Neural Network _ Deep Learning Tutorial 12 (Tensorflow2.0, Keras & Python).wav\n"
     ]
    },
    {
     "name": "stderr",
     "output_type": "stream",
     "text": [
      "                                                                        \r"
     ]
    },
    {
     "name": "stdout",
     "output_type": "stream",
     "text": [
      "MoviePy - Done.\n",
      "Audio extracted for: /Users/somitachaudhari/Adv AI /Data/Video/Gradient Descent For Neural Network _ Deep Learning Tutorial 12 (Tensorflow2.0, Keras & Python).mp4\n",
      "Processing: /Users/somitachaudhari/Adv AI /Data/Video/Pytorch vs Tensorflow vs Keras _ Deep Learning Tutorial 6 (Tensorflow Tutorial, Keras & Python).mp4\n",
      "MoviePy - Writing audio in /Users/somitachaudhari/Adv AI /Preprocessed Videos/Audio Files/Pytorch vs Tensorflow vs Keras _ Deep Learning Tutorial 6 (Tensorflow Tutorial, Keras & Python).wav\n"
     ]
    },
    {
     "name": "stderr",
     "output_type": "stream",
     "text": [
      "                                                                      \r"
     ]
    },
    {
     "name": "stdout",
     "output_type": "stream",
     "text": [
      "MoviePy - Done.\n",
      "Audio extracted for: /Users/somitachaudhari/Adv AI /Data/Video/Pytorch vs Tensorflow vs Keras _ Deep Learning Tutorial 6 (Tensorflow Tutorial, Keras & Python).mp4\n",
      "Processing: /Users/somitachaudhari/Adv AI /Data/Video/Deploy machine learning model to production AWS (Amazon EC2 instance).mp4\n",
      "MoviePy - Writing audio in /Users/somitachaudhari/Adv AI /Preprocessed Videos/Audio Files/Deploy machine learning model to production AWS (Amazon EC2 instance).wav\n"
     ]
    },
    {
     "name": "stderr",
     "output_type": "stream",
     "text": [
      "                                                                        \r"
     ]
    },
    {
     "name": "stdout",
     "output_type": "stream",
     "text": [
      "MoviePy - Done.\n",
      "Audio extracted for: /Users/somitachaudhari/Adv AI /Data/Video/Deploy machine learning model to production AWS (Amazon EC2 instance).mp4\n",
      "Processing: /Users/somitachaudhari/Adv AI /Data/Video/Install tensorflow 2.0 _ Deep Learning Tutorial 5 (Tensorflow Tutorial, Keras & Python) (3).mp4\n",
      "MoviePy - Writing audio in /Users/somitachaudhari/Adv AI /Preprocessed Videos/Audio Files/Install tensorflow 2.0 _ Deep Learning Tutorial 5 (Tensorflow Tutorial, Keras & Python) (3).wav\n"
     ]
    },
    {
     "name": "stderr",
     "output_type": "stream",
     "text": [
      "                                                                      \r"
     ]
    },
    {
     "name": "stdout",
     "output_type": "stream",
     "text": [
      "MoviePy - Done.\n",
      "Audio extracted for: /Users/somitachaudhari/Adv AI /Data/Video/Install tensorflow 2.0 _ Deep Learning Tutorial 5 (Tensorflow Tutorial, Keras & Python) (3).mp4\n",
      "Processing: /Users/somitachaudhari/Adv AI /Data/Video/Machine Learning Tutorial Python - 19_ Principal Component Analysis (PCA) with Python Code.mp4\n",
      "MoviePy - Writing audio in /Users/somitachaudhari/Adv AI /Preprocessed Videos/Audio Files/Machine Learning Tutorial Python - 19_ Principal Component Analysis (PCA) with Python Code.wav\n"
     ]
    },
    {
     "name": "stderr",
     "output_type": "stream",
     "text": [
      "                                                                        \r"
     ]
    },
    {
     "name": "stdout",
     "output_type": "stream",
     "text": [
      "MoviePy - Done.\n",
      "Audio extracted for: /Users/somitachaudhari/Adv AI /Data/Video/Machine Learning Tutorial Python - 19_ Principal Component Analysis (PCA) with Python Code.mp4\n",
      "Processing: /Users/somitachaudhari/Adv AI /Data/Video/Word2Vec Part 2 _ Implement word2vec in gensim _  _ Deep Learning Tutorial 42 with Python.mp4\n",
      "MoviePy - Writing audio in /Users/somitachaudhari/Adv AI /Preprocessed Videos/Audio Files/Word2Vec Part 2 _ Implement word2vec in gensim _  _ Deep Learning Tutorial 42 with Python.wav\n"
     ]
    },
    {
     "name": "stderr",
     "output_type": "stream",
     "text": [
      "                                                                        \r"
     ]
    },
    {
     "name": "stdout",
     "output_type": "stream",
     "text": [
      "MoviePy - Done.\n",
      "Audio extracted for: /Users/somitachaudhari/Adv AI /Data/Video/Word2Vec Part 2 _ Implement word2vec in gensim _  _ Deep Learning Tutorial 42 with Python.mp4\n",
      "Processing: /Users/somitachaudhari/Adv AI /Data/Video/Machine Learning Tutorial Python - 18_ K nearest neighbors classification with python code.mp4\n",
      "MoviePy - Writing audio in /Users/somitachaudhari/Adv AI /Preprocessed Videos/Audio Files/Machine Learning Tutorial Python - 18_ K nearest neighbors classification with python code.wav\n"
     ]
    },
    {
     "name": "stderr",
     "output_type": "stream",
     "text": [
      "                                                                        \r"
     ]
    },
    {
     "name": "stdout",
     "output_type": "stream",
     "text": [
      "MoviePy - Done.\n",
      "Audio extracted for: /Users/somitachaudhari/Adv AI /Data/Video/Machine Learning Tutorial Python - 18_ K nearest neighbors classification with python code.mp4\n",
      "Processing: /Users/somitachaudhari/Adv AI /Data/Video/Implement Neural Network In Python _ Deep Learning Tutorial 13 (Tensorflow2.0, Keras & Python).mp4\n",
      "MoviePy - Writing audio in /Users/somitachaudhari/Adv AI /Preprocessed Videos/Audio Files/Implement Neural Network In Python _ Deep Learning Tutorial 13 (Tensorflow2.0, Keras & Python).wav\n"
     ]
    },
    {
     "name": "stderr",
     "output_type": "stream",
     "text": [
      "                                                                        \r"
     ]
    },
    {
     "name": "stdout",
     "output_type": "stream",
     "text": [
      "MoviePy - Done.\n",
      "Audio extracted for: /Users/somitachaudhari/Adv AI /Data/Video/Implement Neural Network In Python _ Deep Learning Tutorial 13 (Tensorflow2.0, Keras & Python).mp4\n",
      "Processing: /Users/somitachaudhari/Adv AI /Data/Video/Machine Learning & Data Science Project - 3 _ Feature Engineering (Real Estate Price Prediction).mp4\n",
      "MoviePy - Writing audio in /Users/somitachaudhari/Adv AI /Preprocessed Videos/Audio Files/Machine Learning & Data Science Project - 3 _ Feature Engineering (Real Estate Price Prediction).wav\n"
     ]
    },
    {
     "name": "stderr",
     "output_type": "stream",
     "text": [
      "                                                                        \r"
     ]
    },
    {
     "name": "stdout",
     "output_type": "stream",
     "text": [
      "MoviePy - Done.\n",
      "Audio extracted for: /Users/somitachaudhari/Adv AI /Data/Video/Machine Learning & Data Science Project - 3 _ Feature Engineering (Real Estate Price Prediction).mp4\n",
      "Processing: /Users/somitachaudhari/Adv AI /Data/Video/Machine Learning Tutorial Python - 4_ Gradient Descent and Cost Function.mp4\n",
      "MoviePy - Writing audio in /Users/somitachaudhari/Adv AI /Preprocessed Videos/Audio Files/Machine Learning Tutorial Python - 4_ Gradient Descent and Cost Function.wav\n"
     ]
    },
    {
     "name": "stderr",
     "output_type": "stream",
     "text": [
      "                                                                        \r"
     ]
    },
    {
     "name": "stdout",
     "output_type": "stream",
     "text": [
      "MoviePy - Done.\n",
      "Audio extracted for: /Users/somitachaudhari/Adv AI /Data/Video/Machine Learning Tutorial Python - 4_ Gradient Descent and Cost Function.mp4\n",
      "Processing: /Users/somitachaudhari/Adv AI /Data/Video/Machine Learning Tutorial Python - 21_ Ensemble Learning - Bagging.mp4\n",
      "MoviePy - Writing audio in /Users/somitachaudhari/Adv AI /Preprocessed Videos/Audio Files/Machine Learning Tutorial Python - 21_ Ensemble Learning - Bagging.wav\n"
     ]
    },
    {
     "name": "stderr",
     "output_type": "stream",
     "text": [
      "                                                                        \r"
     ]
    },
    {
     "name": "stdout",
     "output_type": "stream",
     "text": [
      "MoviePy - Done.\n",
      "Audio extracted for: /Users/somitachaudhari/Adv AI /Data/Video/Machine Learning Tutorial Python - 21_ Ensemble Learning - Bagging.mp4\n",
      "Processing: /Users/somitachaudhari/Adv AI /Data/Video/Install tensorflow 2.0 _ Deep Learning Tutorial 5 (Tensorflow Tutorial, Keras & Python) (2).mp4\n",
      "MoviePy - Writing audio in /Users/somitachaudhari/Adv AI /Preprocessed Videos/Audio Files/Install tensorflow 2.0 _ Deep Learning Tutorial 5 (Tensorflow Tutorial, Keras & Python) (2).wav\n"
     ]
    },
    {
     "name": "stderr",
     "output_type": "stream",
     "text": [
      "                                                                      \r"
     ]
    },
    {
     "name": "stdout",
     "output_type": "stream",
     "text": [
      "MoviePy - Done.\n",
      "Audio extracted for: /Users/somitachaudhari/Adv AI /Data/Video/Install tensorflow 2.0 _ Deep Learning Tutorial 5 (Tensorflow Tutorial, Keras & Python) (2).mp4\n",
      "Processing: /Users/somitachaudhari/Adv AI /Data/Video/Machine Learning & Data Science Project - 1 _ Introduction (Real Estate Price Prediction Project).mp4\n",
      "MoviePy - Writing audio in /Users/somitachaudhari/Adv AI /Preprocessed Videos/Audio Files/Machine Learning & Data Science Project - 1 _ Introduction (Real Estate Price Prediction Project).wav\n"
     ]
    },
    {
     "name": "stderr",
     "output_type": "stream",
     "text": [
      "                                                                      \r"
     ]
    },
    {
     "name": "stdout",
     "output_type": "stream",
     "text": [
      "MoviePy - Done.\n",
      "Audio extracted for: /Users/somitachaudhari/Adv AI /Data/Video/Machine Learning & Data Science Project - 1 _ Introduction (Real Estate Price Prediction Project).mp4\n",
      "Processing: /Users/somitachaudhari/Adv AI /Data/Video/Machine Learning & Data Science Project - 7 _ Website or UI (Real Estate Price Prediction Project).mp4\n",
      "MoviePy - Writing audio in /Users/somitachaudhari/Adv AI /Preprocessed Videos/Audio Files/Machine Learning & Data Science Project - 7 _ Website or UI (Real Estate Price Prediction Project).wav\n"
     ]
    },
    {
     "name": "stderr",
     "output_type": "stream",
     "text": [
      "                                                                        \r"
     ]
    },
    {
     "name": "stdout",
     "output_type": "stream",
     "text": [
      "MoviePy - Done.\n",
      "Audio extracted for: /Users/somitachaudhari/Adv AI /Data/Video/Machine Learning & Data Science Project - 7 _ Website or UI (Real Estate Price Prediction Project).mp4\n",
      "Processing: /Users/somitachaudhari/Adv AI /Data/Video/Machine Learning Tutorial Python - 9  Decision Tree.mp4\n",
      "MoviePy - Writing audio in /Users/somitachaudhari/Adv AI /Preprocessed Videos/Audio Files/Machine Learning Tutorial Python - 9  Decision Tree.wav\n"
     ]
    },
    {
     "name": "stderr",
     "output_type": "stream",
     "text": [
      "                                                                        \r"
     ]
    },
    {
     "name": "stdout",
     "output_type": "stream",
     "text": [
      "MoviePy - Done.\n",
      "Audio extracted for: /Users/somitachaudhari/Adv AI /Data/Video/Machine Learning Tutorial Python - 9  Decision Tree.mp4\n",
      "Processing: /Users/somitachaudhari/Adv AI /Data/Video/Machine Learning Tutorial Python - 10  Support Vector Machine (SVM).mp4\n",
      "MoviePy - Writing audio in /Users/somitachaudhari/Adv AI /Preprocessed Videos/Audio Files/Machine Learning Tutorial Python - 10  Support Vector Machine (SVM).wav\n"
     ]
    },
    {
     "name": "stderr",
     "output_type": "stream",
     "text": [
      "                                                                        \r"
     ]
    },
    {
     "name": "stdout",
     "output_type": "stream",
     "text": [
      "MoviePy - Done.\n",
      "Audio extracted for: /Users/somitachaudhari/Adv AI /Data/Video/Machine Learning Tutorial Python - 10  Support Vector Machine (SVM).mp4\n",
      "Processing: /Users/somitachaudhari/Adv AI /Data/Video/Quantization in deep learning _ Deep Learning Tutorial 49 (Tensorflow, Keras & Python).mp4\n",
      "MoviePy - Writing audio in /Users/somitachaudhari/Adv AI /Preprocessed Videos/Audio Files/Quantization in deep learning _ Deep Learning Tutorial 49 (Tensorflow, Keras & Python).wav\n"
     ]
    },
    {
     "name": "stderr",
     "output_type": "stream",
     "text": [
      "                                                                        \r"
     ]
    },
    {
     "name": "stdout",
     "output_type": "stream",
     "text": [
      "MoviePy - Done.\n",
      "Audio extracted for: /Users/somitachaudhari/Adv AI /Data/Video/Quantization in deep learning _ Deep Learning Tutorial 49 (Tensorflow, Keras & Python).mp4\n",
      "Processing: /Users/somitachaudhari/Adv AI /Data/Video/Distributed Training On NVIDIA DGX Station A100 _ Deep Learning Tutorial 43 (Tensorflow & Python).mp4\n",
      "MoviePy - Writing audio in /Users/somitachaudhari/Adv AI /Preprocessed Videos/Audio Files/Distributed Training On NVIDIA DGX Station A100 _ Deep Learning Tutorial 43 (Tensorflow & Python).wav\n"
     ]
    },
    {
     "name": "stderr",
     "output_type": "stream",
     "text": [
      "                                                                        \r"
     ]
    },
    {
     "name": "stdout",
     "output_type": "stream",
     "text": [
      "MoviePy - Done.\n",
      "Audio extracted for: /Users/somitachaudhari/Adv AI /Data/Video/Distributed Training On NVIDIA DGX Station A100 _ Deep Learning Tutorial 43 (Tensorflow & Python).mp4\n",
      "Processing: /Users/somitachaudhari/Adv AI /Data/Video/Data Science & Machine Learning Project - Part 4 Feature Engineering _ Image Classification.mp4\n",
      "MoviePy - Writing audio in /Users/somitachaudhari/Adv AI /Preprocessed Videos/Audio Files/Data Science & Machine Learning Project - Part 4 Feature Engineering _ Image Classification.wav\n"
     ]
    },
    {
     "name": "stderr",
     "output_type": "stream",
     "text": [
      "                                                                        \r"
     ]
    },
    {
     "name": "stdout",
     "output_type": "stream",
     "text": [
      "MoviePy - Done.\n",
      "Audio extracted for: /Users/somitachaudhari/Adv AI /Data/Video/Data Science & Machine Learning Project - Part 4 Feature Engineering _ Image Classification.mp4\n",
      "Processing: /Users/somitachaudhari/Adv AI /Data/Video/Converting words to numbers, Word Embeddings _ Deep Learning Tutorial 39 (Tensorflow & Python).mp4\n",
      "MoviePy - Writing audio in /Users/somitachaudhari/Adv AI /Preprocessed Videos/Audio Files/Converting words to numbers, Word Embeddings _ Deep Learning Tutorial 39 (Tensorflow & Python).wav\n"
     ]
    },
    {
     "name": "stderr",
     "output_type": "stream",
     "text": [
      "                                                                        \r"
     ]
    },
    {
     "name": "stdout",
     "output_type": "stream",
     "text": [
      "MoviePy - Done.\n",
      "Audio extracted for: /Users/somitachaudhari/Adv AI /Data/Video/Converting words to numbers, Word Embeddings _ Deep Learning Tutorial 39 (Tensorflow & Python).mp4\n",
      "Processing: /Users/somitachaudhari/Adv AI /Data/Video/Chain Rule _ Deep Learning Tutorial 15 (Tensorflow2.0, Keras & Python).mp4\n",
      "MoviePy - Writing audio in /Users/somitachaudhari/Adv AI /Preprocessed Videos/Audio Files/Chain Rule _ Deep Learning Tutorial 15 (Tensorflow2.0, Keras & Python).wav\n"
     ]
    },
    {
     "name": "stderr",
     "output_type": "stream",
     "text": [
      "                                                                        \r"
     ]
    },
    {
     "name": "stdout",
     "output_type": "stream",
     "text": [
      "MoviePy - Done.\n",
      "Audio extracted for: /Users/somitachaudhari/Adv AI /Data/Video/Chain Rule _ Deep Learning Tutorial 15 (Tensorflow2.0, Keras & Python).mp4\n",
      "Processing: /Users/somitachaudhari/Adv AI /Data/Video/Introduction _ Deep Learning Tutorial 1 (Tensorflow Tutorial, Keras & Python).mp4\n",
      "MoviePy - Writing audio in /Users/somitachaudhari/Adv AI /Preprocessed Videos/Audio Files/Introduction _ Deep Learning Tutorial 1 (Tensorflow Tutorial, Keras & Python).wav\n"
     ]
    },
    {
     "name": "stderr",
     "output_type": "stream",
     "text": [
      "                                                                      \r"
     ]
    },
    {
     "name": "stdout",
     "output_type": "stream",
     "text": [
      "MoviePy - Done.\n",
      "Audio extracted for: /Users/somitachaudhari/Adv AI /Data/Video/Introduction _ Deep Learning Tutorial 1 (Tensorflow Tutorial, Keras & Python).mp4\n",
      "Processing: /Users/somitachaudhari/Adv AI /Data/Video/Machine Learning Tutorial Python - 3_ Linear Regression Multiple Variables.mp4\n",
      "MoviePy - Writing audio in /Users/somitachaudhari/Adv AI /Preprocessed Videos/Audio Files/Machine Learning Tutorial Python - 3_ Linear Regression Multiple Variables.wav\n"
     ]
    },
    {
     "name": "stderr",
     "output_type": "stream",
     "text": [
      "                                                                        \r"
     ]
    },
    {
     "name": "stdout",
     "output_type": "stream",
     "text": [
      "MoviePy - Done.\n",
      "Audio extracted for: /Users/somitachaudhari/Adv AI /Data/Video/Machine Learning Tutorial Python - 3_ Linear Regression Multiple Variables.mp4\n",
      "Processing: /Users/somitachaudhari/Adv AI /Data/Video/Machine Learning & Data Science Project - 5 _ Model Building (Real Estate Price Prediction Project).mp4\n",
      "MoviePy - Writing audio in /Users/somitachaudhari/Adv AI /Preprocessed Videos/Audio Files/Machine Learning & Data Science Project - 5 _ Model Building (Real Estate Price Prediction Project).wav\n"
     ]
    },
    {
     "name": "stderr",
     "output_type": "stream",
     "text": [
      "                                                                        \r"
     ]
    },
    {
     "name": "stdout",
     "output_type": "stream",
     "text": [
      "MoviePy - Done.\n",
      "Audio extracted for: /Users/somitachaudhari/Adv AI /Data/Video/Machine Learning & Data Science Project - 5 _ Model Building (Real Estate Price Prediction Project).mp4\n",
      "Processing: /Users/somitachaudhari/Adv AI /Data/Video/Machine Learning Tutorial Python - 14_ Naive Bayes Classifier Algorithm Part 1.mp4\n",
      "MoviePy - Writing audio in /Users/somitachaudhari/Adv AI /Preprocessed Videos/Audio Files/Machine Learning Tutorial Python - 14_ Naive Bayes Classifier Algorithm Part 1.wav\n"
     ]
    },
    {
     "name": "stderr",
     "output_type": "stream",
     "text": [
      "                                                                        \r"
     ]
    },
    {
     "name": "stdout",
     "output_type": "stream",
     "text": [
      "MoviePy - Done.\n",
      "Audio extracted for: /Users/somitachaudhari/Adv AI /Data/Video/Machine Learning Tutorial Python - 14_ Naive Bayes Classifier Algorithm Part 1.mp4\n",
      "Processing: /Users/somitachaudhari/Adv AI /Data/Video/Outlier detection and removal using percentile _ Feature engineering tutorial python # 2.mp4\n",
      "MoviePy - Writing audio in /Users/somitachaudhari/Adv AI /Preprocessed Videos/Audio Files/Outlier detection and removal using percentile _ Feature engineering tutorial python # 2.wav\n"
     ]
    },
    {
     "name": "stderr",
     "output_type": "stream",
     "text": [
      "                                                                        \r"
     ]
    },
    {
     "name": "stdout",
     "output_type": "stream",
     "text": [
      "MoviePy - Done.\n",
      "Audio extracted for: /Users/somitachaudhari/Adv AI /Data/Video/Outlier detection and removal using percentile _ Feature engineering tutorial python # 2.mp4\n",
      "Processing: /Users/somitachaudhari/Adv AI /Data/Video/tf serving tutorial _ tensorflow serving tutorial _ Deep Learning Tutorial 48 (Tensorflow, Python).mp4\n",
      "MoviePy - Writing audio in /Users/somitachaudhari/Adv AI /Preprocessed Videos/Audio Files/tf serving tutorial _ tensorflow serving tutorial _ Deep Learning Tutorial 48 (Tensorflow, Python).wav\n"
     ]
    },
    {
     "name": "stderr",
     "output_type": "stream",
     "text": [
      "                                                                        \r"
     ]
    },
    {
     "name": "stdout",
     "output_type": "stream",
     "text": [
      "MoviePy - Done.\n",
      "Audio extracted for: /Users/somitachaudhari/Adv AI /Data/Video/tf serving tutorial _ tensorflow serving tutorial _ Deep Learning Tutorial 48 (Tensorflow, Python).mp4\n",
      "Processing: /Users/somitachaudhari/Adv AI /Data/Video/Machine Learning & Data Science Project - 4 _ Outlier Removal (Real Estate Price Prediction Project).mp4\n",
      "MoviePy - Writing audio in /Users/somitachaudhari/Adv AI /Preprocessed Videos/Audio Files/Machine Learning & Data Science Project - 4 _ Outlier Removal (Real Estate Price Prediction Project).wav\n"
     ]
    },
    {
     "name": "stderr",
     "output_type": "stream",
     "text": [
      "                                                                        \r"
     ]
    },
    {
     "name": "stdout",
     "output_type": "stream",
     "text": [
      "MoviePy - Done.\n",
      "Audio extracted for: /Users/somitachaudhari/Adv AI /Data/Video/Machine Learning & Data Science Project - 4 _ Outlier Removal (Real Estate Price Prediction Project).mp4\n",
      "Processing: /Users/somitachaudhari/Adv AI /Data/Video/Install tensorflow 2.0 _ Deep Learning Tutorial 5 (Tensorflow Tutorial, Keras & Python).mp4\n",
      "MoviePy - Writing audio in /Users/somitachaudhari/Adv AI /Preprocessed Videos/Audio Files/Install tensorflow 2.0 _ Deep Learning Tutorial 5 (Tensorflow Tutorial, Keras & Python).wav\n"
     ]
    },
    {
     "name": "stderr",
     "output_type": "stream",
     "text": [
      "                                                                      \r"
     ]
    },
    {
     "name": "stdout",
     "output_type": "stream",
     "text": [
      "MoviePy - Done.\n",
      "Audio extracted for: /Users/somitachaudhari/Adv AI /Data/Video/Install tensorflow 2.0 _ Deep Learning Tutorial 5 (Tensorflow Tutorial, Keras & Python).mp4\n",
      "Processing: /Users/somitachaudhari/Adv AI /Data/Video/Machine Learning Tutorial Python - 16_ Hyper parameter Tuning (GridSearchCV) (1).mp4\n",
      "MoviePy - Writing audio in /Users/somitachaudhari/Adv AI /Preprocessed Videos/Audio Files/Machine Learning Tutorial Python - 16_ Hyper parameter Tuning (GridSearchCV) (1).wav\n"
     ]
    },
    {
     "name": "stderr",
     "output_type": "stream",
     "text": [
      "                                                                        \r"
     ]
    },
    {
     "name": "stdout",
     "output_type": "stream",
     "text": [
      "MoviePy - Done.\n",
      "Audio extracted for: /Users/somitachaudhari/Adv AI /Data/Video/Machine Learning Tutorial Python - 16_ Hyper parameter Tuning (GridSearchCV) (1).mp4\n",
      "Processing: /Users/somitachaudhari/Adv AI /Data/Video/Word embedding using keras embedding layer _ Deep Learning Tutorial 40 (Tensorflow, Keras & Python).mp4\n",
      "MoviePy - Writing audio in /Users/somitachaudhari/Adv AI /Preprocessed Videos/Audio Files/Word embedding using keras embedding layer _ Deep Learning Tutorial 40 (Tensorflow, Keras & Python).wav\n"
     ]
    },
    {
     "name": "stderr",
     "output_type": "stream",
     "text": [
      "                                                                        \r"
     ]
    },
    {
     "name": "stdout",
     "output_type": "stream",
     "text": [
      "MoviePy - Done.\n",
      "Audio extracted for: /Users/somitachaudhari/Adv AI /Data/Video/Word embedding using keras embedding layer _ Deep Learning Tutorial 40 (Tensorflow, Keras & Python).mp4\n",
      "Processing: /Users/somitachaudhari/Adv AI /Data/Video/Matrix Basics _ Deep Learning Tutorial 10 (Tensorflow Tutorial, Keras & Python) (1).mp4\n",
      "MoviePy - Writing audio in /Users/somitachaudhari/Adv AI /Preprocessed Videos/Audio Files/Matrix Basics _ Deep Learning Tutorial 10 (Tensorflow Tutorial, Keras & Python) (1).wav\n"
     ]
    },
    {
     "name": "stderr",
     "output_type": "stream",
     "text": [
      "                                                                        \r"
     ]
    },
    {
     "name": "stdout",
     "output_type": "stream",
     "text": [
      "MoviePy - Done.\n",
      "Audio extracted for: /Users/somitachaudhari/Adv AI /Data/Video/Matrix Basics _ Deep Learning Tutorial 10 (Tensorflow Tutorial, Keras & Python) (1).mp4\n",
      "Processing: /Users/somitachaudhari/Adv AI /Data/Video/Data Science & Machine Learning Project - Part 3 Data Cleaning _ Image Classification (1).mp4\n",
      "MoviePy - Writing audio in /Users/somitachaudhari/Adv AI /Preprocessed Videos/Audio Files/Data Science & Machine Learning Project - Part 3 Data Cleaning _ Image Classification (1).wav\n"
     ]
    },
    {
     "name": "stderr",
     "output_type": "stream",
     "text": [
      "                                                                        \r"
     ]
    },
    {
     "name": "stdout",
     "output_type": "stream",
     "text": [
      "MoviePy - Done.\n",
      "Audio extracted for: /Users/somitachaudhari/Adv AI /Data/Video/Data Science & Machine Learning Project - Part 3 Data Cleaning _ Image Classification (1).mp4\n",
      "Processing: /Users/somitachaudhari/Adv AI /Data/Video/Dropout Regularization _ Deep Learning Tutorial 20 (Tensorflow2.0, Keras & Python).mp4\n",
      "MoviePy - Writing audio in /Users/somitachaudhari/Adv AI /Preprocessed Videos/Audio Files/Dropout Regularization _ Deep Learning Tutorial 20 (Tensorflow2.0, Keras & Python).wav\n"
     ]
    },
    {
     "name": "stderr",
     "output_type": "stream",
     "text": [
      "                                                                        \r"
     ]
    },
    {
     "name": "stdout",
     "output_type": "stream",
     "text": [
      "MoviePy - Done.\n",
      "Audio extracted for: /Users/somitachaudhari/Adv AI /Data/Video/Dropout Regularization _ Deep Learning Tutorial 20 (Tensorflow2.0, Keras & Python).mp4\n",
      "Processing: /Users/somitachaudhari/Adv AI /Data/Video/Install tensorflow 2.0 _ Deep Learning Tutorial 5 (Tensorflow Tutorial, Keras & Python) (1).mp4\n",
      "MoviePy - Writing audio in /Users/somitachaudhari/Adv AI /Preprocessed Videos/Audio Files/Install tensorflow 2.0 _ Deep Learning Tutorial 5 (Tensorflow Tutorial, Keras & Python) (1).wav\n"
     ]
    },
    {
     "name": "stderr",
     "output_type": "stream",
     "text": [
      "                                                                      \r"
     ]
    },
    {
     "name": "stdout",
     "output_type": "stream",
     "text": [
      "MoviePy - Done.\n",
      "Audio extracted for: /Users/somitachaudhari/Adv AI /Data/Video/Install tensorflow 2.0 _ Deep Learning Tutorial 5 (Tensorflow Tutorial, Keras & Python) (1).mp4\n",
      "Processing: /Users/somitachaudhari/Adv AI /Data/Video/Machine Learning Tutorial Python - 5_ Save Model Using Joblib And Pickle.mp4\n",
      "MoviePy - Writing audio in /Users/somitachaudhari/Adv AI /Preprocessed Videos/Audio Files/Machine Learning Tutorial Python - 5_ Save Model Using Joblib And Pickle.wav\n"
     ]
    },
    {
     "name": "stderr",
     "output_type": "stream",
     "text": [
      "                                                                        \r"
     ]
    },
    {
     "name": "stdout",
     "output_type": "stream",
     "text": [
      "MoviePy - Done.\n",
      "Audio extracted for: /Users/somitachaudhari/Adv AI /Data/Video/Machine Learning Tutorial Python - 5_ Save Model Using Joblib And Pickle.mp4\n",
      "Processing: /Users/somitachaudhari/Adv AI /Data/Video/Bidirectional RNN _ Deep Learning Tutorial 38 (Tensorflow, Keras & Python).mp4\n",
      "MoviePy - Writing audio in /Users/somitachaudhari/Adv AI /Preprocessed Videos/Audio Files/Bidirectional RNN _ Deep Learning Tutorial 38 (Tensorflow, Keras & Python).wav\n"
     ]
    },
    {
     "name": "stderr",
     "output_type": "stream",
     "text": [
      "                                                                      \r"
     ]
    },
    {
     "name": "stdout",
     "output_type": "stream",
     "text": [
      "MoviePy - Done.\n",
      "Audio extracted for: /Users/somitachaudhari/Adv AI /Data/Video/Bidirectional RNN _ Deep Learning Tutorial 38 (Tensorflow, Keras & Python).mp4\n",
      "Processing: /Users/somitachaudhari/Adv AI /Data/Video/Simple explanation of convolutional neural network _ Deep Learning Tutorial 23 (Tensorflow & Python).mp4\n",
      "MoviePy - Writing audio in /Users/somitachaudhari/Adv AI /Preprocessed Videos/Audio Files/Simple explanation of convolutional neural network _ Deep Learning Tutorial 23 (Tensorflow & Python).wav\n"
     ]
    },
    {
     "name": "stderr",
     "output_type": "stream",
     "text": [
      "                                                                        \r"
     ]
    },
    {
     "name": "stdout",
     "output_type": "stream",
     "text": [
      "MoviePy - Done.\n",
      "Audio extracted for: /Users/somitachaudhari/Adv AI /Data/Video/Simple explanation of convolutional neural network _ Deep Learning Tutorial 23 (Tensorflow & Python).mp4\n",
      "Processing: /Users/somitachaudhari/Adv AI /Data/Video/Matrix Basics _ Deep Learning Tutorial 10 (Tensorflow Tutorial, Keras & Python).mp4\n",
      "MoviePy - Writing audio in /Users/somitachaudhari/Adv AI /Preprocessed Videos/Audio Files/Matrix Basics _ Deep Learning Tutorial 10 (Tensorflow Tutorial, Keras & Python).wav\n"
     ]
    },
    {
     "name": "stderr",
     "output_type": "stream",
     "text": [
      "                                                                        \r"
     ]
    },
    {
     "name": "stdout",
     "output_type": "stream",
     "text": [
      "MoviePy - Done.\n",
      "Audio extracted for: /Users/somitachaudhari/Adv AI /Data/Video/Matrix Basics _ Deep Learning Tutorial 10 (Tensorflow Tutorial, Keras & Python).mp4\n",
      "Processing: /Users/somitachaudhari/Adv AI /Data/Video/Machine Learning Tutorial Python - 15_  Naive Bayes Classifier Algorithm Part 2.mp4\n",
      "MoviePy - Writing audio in /Users/somitachaudhari/Adv AI /Preprocessed Videos/Audio Files/Machine Learning Tutorial Python - 15_  Naive Bayes Classifier Algorithm Part 2.wav\n"
     ]
    },
    {
     "name": "stderr",
     "output_type": "stream",
     "text": [
      "                                                                        \r"
     ]
    },
    {
     "name": "stdout",
     "output_type": "stream",
     "text": [
      "MoviePy - Done.\n",
      "Audio extracted for: /Users/somitachaudhari/Adv AI /Data/Video/Machine Learning Tutorial Python - 15_  Naive Bayes Classifier Algorithm Part 2.mp4\n",
      "Processing: /Users/somitachaudhari/Adv AI /Data/Video/Machine Learning Tutorial Python - 11  Random Forest.mp4\n",
      "MoviePy - Writing audio in /Users/somitachaudhari/Adv AI /Preprocessed Videos/Audio Files/Machine Learning Tutorial Python - 11  Random Forest.wav\n"
     ]
    },
    {
     "name": "stderr",
     "output_type": "stream",
     "text": [
      "                                                                        \r"
     ]
    },
    {
     "name": "stdout",
     "output_type": "stream",
     "text": [
      "MoviePy - Done.\n",
      "Audio extracted for: /Users/somitachaudhari/Adv AI /Data/Video/Machine Learning Tutorial Python - 11  Random Forest.mp4\n",
      "Processing: /Users/somitachaudhari/Adv AI /Data/Video/Applications of computer vision _ Deep Learning Tutorial 22 (Tensorflow2.0, Keras & Python).mp4\n",
      "MoviePy - Writing audio in /Users/somitachaudhari/Adv AI /Preprocessed Videos/Audio Files/Applications of computer vision _ Deep Learning Tutorial 22 (Tensorflow2.0, Keras & Python).wav\n"
     ]
    },
    {
     "name": "stderr",
     "output_type": "stream",
     "text": [
      "                                                                        \r"
     ]
    },
    {
     "name": "stdout",
     "output_type": "stream",
     "text": [
      "MoviePy - Done.\n",
      "Audio extracted for: /Users/somitachaudhari/Adv AI /Data/Video/Applications of computer vision _ Deep Learning Tutorial 22 (Tensorflow2.0, Keras & Python).mp4\n",
      "Processing: /Users/somitachaudhari/Adv AI /Data/Video/Optimize Tensorflow Pipeline Performance_ prefetch & cache _ Deep Learning Tutorial 45 (Tensorflow).mp4\n",
      "MoviePy - Writing audio in /Users/somitachaudhari/Adv AI /Preprocessed Videos/Audio Files/Optimize Tensorflow Pipeline Performance_ prefetch & cache _ Deep Learning Tutorial 45 (Tensorflow).wav\n"
     ]
    },
    {
     "name": "stderr",
     "output_type": "stream",
     "text": [
      "                                                                        \r"
     ]
    },
    {
     "name": "stdout",
     "output_type": "stream",
     "text": [
      "MoviePy - Done.\n",
      "Audio extracted for: /Users/somitachaudhari/Adv AI /Data/Video/Optimize Tensorflow Pipeline Performance_ prefetch & cache _ Deep Learning Tutorial 45 (Tensorflow).mp4\n",
      "Processing: /Users/somitachaudhari/Adv AI /Data/Video/Data Science & Machine Learning Project - Part 6 Flask Server _ Image Classification.mp4\n",
      "MoviePy - Writing audio in /Users/somitachaudhari/Adv AI /Preprocessed Videos/Audio Files/Data Science & Machine Learning Project - Part 6 Flask Server _ Image Classification.wav\n"
     ]
    },
    {
     "name": "stderr",
     "output_type": "stream",
     "text": [
      "                                                                        \r"
     ]
    },
    {
     "name": "stdout",
     "output_type": "stream",
     "text": [
      "MoviePy - Done.\n",
      "Audio extracted for: /Users/somitachaudhari/Adv AI /Data/Video/Data Science & Machine Learning Project - Part 6 Flask Server _ Image Classification.mp4\n",
      "Processing: /Users/somitachaudhari/Adv AI /Data/Video/Simple Explanation of LSTM _ Deep Learning Tutorial 36 (Tensorflow, Keras & Python).mp4\n",
      "MoviePy - Writing audio in /Users/somitachaudhari/Adv AI /Preprocessed Videos/Audio Files/Simple Explanation of LSTM _ Deep Learning Tutorial 36 (Tensorflow, Keras & Python).wav\n"
     ]
    },
    {
     "name": "stderr",
     "output_type": "stream",
     "text": [
      "                                                                        \r"
     ]
    },
    {
     "name": "stdout",
     "output_type": "stream",
     "text": [
      "MoviePy - Done.\n",
      "Audio extracted for: /Users/somitachaudhari/Adv AI /Data/Video/Simple Explanation of LSTM _ Deep Learning Tutorial 36 (Tensorflow, Keras & Python).mp4\n",
      "Processing: /Users/somitachaudhari/Adv AI /Data/Video/Why deep learning is becoming so popular_ _ Deep Learning Tutorial 2 (Tensorflow2.0, Keras & Python).mp4\n",
      "MoviePy - Writing audio in /Users/somitachaudhari/Adv AI /Preprocessed Videos/Audio Files/Why deep learning is becoming so popular_ _ Deep Learning Tutorial 2 (Tensorflow2.0, Keras & Python).wav\n"
     ]
    },
    {
     "name": "stderr",
     "output_type": "stream",
     "text": [
      "                                                                      \r"
     ]
    },
    {
     "name": "stdout",
     "output_type": "stream",
     "text": [
      "MoviePy - Done.\n",
      "Audio extracted for: /Users/somitachaudhari/Adv AI /Data/Video/Why deep learning is becoming so popular_ _ Deep Learning Tutorial 2 (Tensorflow2.0, Keras & Python).mp4\n",
      "Processing: /Users/somitachaudhari/Adv AI /Data/Video/Machine Learning Tutorial Python - 7_ Training and Testing Data.mp4\n",
      "MoviePy - Writing audio in /Users/somitachaudhari/Adv AI /Preprocessed Videos/Audio Files/Machine Learning Tutorial Python - 7_ Training and Testing Data.wav\n"
     ]
    },
    {
     "name": "stderr",
     "output_type": "stream",
     "text": [
      "                                                                      \r"
     ]
    },
    {
     "name": "stdout",
     "output_type": "stream",
     "text": [
      "MoviePy - Done.\n",
      "Audio extracted for: /Users/somitachaudhari/Adv AI /Data/Video/Machine Learning Tutorial Python - 7_ Training and Testing Data.mp4\n",
      "Processing: /Users/somitachaudhari/Adv AI /Data/Video/Deep learning project end to end ｜ Potato Disease Classification - 2 ：Data collection, preprocessing.mp4\n",
      "MoviePy - Writing audio in /Users/somitachaudhari/Adv AI /Preprocessed Videos/Audio Files/Deep learning project end to end ｜ Potato Disease Classification - 2 ：Data collection, preprocessing.wav\n"
     ]
    },
    {
     "name": "stderr",
     "output_type": "stream",
     "text": [
      "                                                                        \r"
     ]
    },
    {
     "name": "stdout",
     "output_type": "stream",
     "text": [
      "MoviePy - Done.\n",
      "Audio extracted for: /Users/somitachaudhari/Adv AI /Data/Video/Deep learning project end to end ｜ Potato Disease Classification - 2 ：Data collection, preprocessing.mp4\n",
      "Processing: /Users/somitachaudhari/Adv AI /Data/Video/Machine Learning Tutorial Python 12 - K Fold Cross Validation.mp4\n",
      "MoviePy - Writing audio in /Users/somitachaudhari/Adv AI /Preprocessed Videos/Audio Files/Machine Learning Tutorial Python 12 - K Fold Cross Validation.wav\n"
     ]
    },
    {
     "name": "stderr",
     "output_type": "stream",
     "text": [
      "                                                                        \r"
     ]
    },
    {
     "name": "stdout",
     "output_type": "stream",
     "text": [
      "MoviePy - Done.\n",
      "Audio extracted for: /Users/somitachaudhari/Adv AI /Data/Video/Machine Learning Tutorial Python 12 - K Fold Cross Validation.mp4\n",
      "Processing: /Users/somitachaudhari/Adv AI /Data/Video/Handling imbalanced dataset in machine learning _ Deep Learning Tutorial 21 (Tensorflow2.0 & Python).mp4\n",
      "MoviePy - Writing audio in /Users/somitachaudhari/Adv AI /Preprocessed Videos/Audio Files/Handling imbalanced dataset in machine learning _ Deep Learning Tutorial 21 (Tensorflow2.0 & Python).wav\n"
     ]
    },
    {
     "name": "stderr",
     "output_type": "stream",
     "text": [
      "                                                                        \r"
     ]
    },
    {
     "name": "stdout",
     "output_type": "stream",
     "text": [
      "MoviePy - Done.\n",
      "Audio extracted for: /Users/somitachaudhari/Adv AI /Data/Video/Handling imbalanced dataset in machine learning _ Deep Learning Tutorial 21 (Tensorflow2.0 & Python).mp4\n",
      "Processing: /Users/somitachaudhari/Adv AI /Data/Video/Tensorboard Introduction _ Deep Learning Tutorial 16 (Tensorflow2.0, Keras & Python) (1).mp4\n",
      "MoviePy - Writing audio in /Users/somitachaudhari/Adv AI /Preprocessed Videos/Audio Files/Tensorboard Introduction _ Deep Learning Tutorial 16 (Tensorflow2.0, Keras & Python) (1).wav\n"
     ]
    },
    {
     "name": "stderr",
     "output_type": "stream",
     "text": [
      "                                                                        \r"
     ]
    },
    {
     "name": "stdout",
     "output_type": "stream",
     "text": [
      "MoviePy - Done.\n",
      "Audio extracted for: /Users/somitachaudhari/Adv AI /Data/Video/Tensorboard Introduction _ Deep Learning Tutorial 16 (Tensorflow2.0, Keras & Python) (1).mp4\n",
      "Processing: /Users/somitachaudhari/Adv AI /Data/Video/Data Science & Machine Learning Project - Part 5 Training a Model _ Image Classification.mp4\n",
      "MoviePy - Writing audio in /Users/somitachaudhari/Adv AI /Preprocessed Videos/Audio Files/Data Science & Machine Learning Project - Part 5 Training a Model _ Image Classification.wav\n"
     ]
    },
    {
     "name": "stderr",
     "output_type": "stream",
     "text": [
      "                                                                        \r"
     ]
    },
    {
     "name": "stdout",
     "output_type": "stream",
     "text": [
      "MoviePy - Done.\n",
      "Audio extracted for: /Users/somitachaudhari/Adv AI /Data/Video/Data Science & Machine Learning Project - Part 5 Training a Model _ Image Classification.mp4\n",
      "Processing: /Users/somitachaudhari/Adv AI /Data/Video/Data Science & Machine Learning Project - Part 2 Data Collection _ Image Classification.mp4\n",
      "MoviePy - Writing audio in /Users/somitachaudhari/Adv AI /Preprocessed Videos/Audio Files/Data Science & Machine Learning Project - Part 2 Data Collection _ Image Classification.wav\n"
     ]
    },
    {
     "name": "stderr",
     "output_type": "stream",
     "text": [
      "                                                                      \r"
     ]
    },
    {
     "name": "stdout",
     "output_type": "stream",
     "text": [
      "MoviePy - Done.\n",
      "Audio extracted for: /Users/somitachaudhari/Adv AI /Data/Video/Data Science & Machine Learning Project - Part 2 Data Collection _ Image Classification.mp4\n",
      "Processing: /Users/somitachaudhari/Adv AI /Data/Video/Machine Learning Tutorial Python - 14_ Naive Bayes Classifier Algorithm Part 1 (1).mp4\n",
      "MoviePy - Writing audio in /Users/somitachaudhari/Adv AI /Preprocessed Videos/Audio Files/Machine Learning Tutorial Python - 14_ Naive Bayes Classifier Algorithm Part 1 (1).wav\n"
     ]
    },
    {
     "name": "stderr",
     "output_type": "stream",
     "text": [
      "                                                                        \r"
     ]
    },
    {
     "name": "stdout",
     "output_type": "stream",
     "text": [
      "MoviePy - Done.\n",
      "Audio extracted for: /Users/somitachaudhari/Adv AI /Data/Video/Machine Learning Tutorial Python - 14_ Naive Bayes Classifier Algorithm Part 1 (1).mp4\n",
      "Processing: /Users/somitachaudhari/Adv AI /Data/Video/Machine Learning Tutorial Python - 17_ L1 and L2 Regularization _ Lasso, Ridge Regression.mp4\n",
      "MoviePy - Writing audio in /Users/somitachaudhari/Adv AI /Preprocessed Videos/Audio Files/Machine Learning Tutorial Python - 17_ L1 and L2 Regularization _ Lasso, Ridge Regression.wav\n"
     ]
    },
    {
     "name": "stderr",
     "output_type": "stream",
     "text": [
      "                                                                        \r"
     ]
    },
    {
     "name": "stdout",
     "output_type": "stream",
     "text": [
      "MoviePy - Done.\n",
      "Audio extracted for: /Users/somitachaudhari/Adv AI /Data/Video/Machine Learning Tutorial Python - 17_ L1 and L2 Regularization _ Lasso, Ridge Regression.mp4\n",
      "Processing: /Users/somitachaudhari/Adv AI /Data/Video/Derivatives _ Deep Learning Tutorial 9 (Tensorflow Tutorial, Keras & Python).mp4\n",
      "MoviePy - Writing audio in /Users/somitachaudhari/Adv AI /Preprocessed Videos/Audio Files/Derivatives _ Deep Learning Tutorial 9 (Tensorflow Tutorial, Keras & Python).wav\n"
     ]
    },
    {
     "name": "stderr",
     "output_type": "stream",
     "text": [
      "                                                                        \r"
     ]
    },
    {
     "name": "stdout",
     "output_type": "stream",
     "text": [
      "MoviePy - Done.\n",
      "Audio extracted for: /Users/somitachaudhari/Adv AI /Data/Video/Derivatives _ Deep Learning Tutorial 9 (Tensorflow Tutorial, Keras & Python).mp4\n",
      "Processing: /Users/somitachaudhari/Adv AI /Data/Video/Machine Learning Tutorial Python - 16_ Hyper parameter Tuning (GridSearchCV).mp4\n",
      "MoviePy - Writing audio in /Users/somitachaudhari/Adv AI /Preprocessed Videos/Audio Files/Machine Learning Tutorial Python - 16_ Hyper parameter Tuning (GridSearchCV).wav\n"
     ]
    },
    {
     "name": "stderr",
     "output_type": "stream",
     "text": [
      "                                                                        \r"
     ]
    },
    {
     "name": "stdout",
     "output_type": "stream",
     "text": [
      "MoviePy - Done.\n",
      "Audio extracted for: /Users/somitachaudhari/Adv AI /Data/Video/Machine Learning Tutorial Python - 16_ Hyper parameter Tuning (GridSearchCV).mp4\n",
      "Processing: /Users/somitachaudhari/Adv AI /Data/Video/Data Science & Machine Learning Project - Part 7 Build Website _ Image Classification.mp4\n",
      "MoviePy - Writing audio in /Users/somitachaudhari/Adv AI /Preprocessed Videos/Audio Files/Data Science & Machine Learning Project - Part 7 Build Website _ Image Classification.wav\n"
     ]
    },
    {
     "name": "stderr",
     "output_type": "stream",
     "text": [
      "                                                                        \r"
     ]
    },
    {
     "name": "stdout",
     "output_type": "stream",
     "text": [
      "MoviePy - Done.\n",
      "Audio extracted for: /Users/somitachaudhari/Adv AI /Data/Video/Data Science & Machine Learning Project - Part 7 Build Website _ Image Classification.mp4\n",
      "Processing: /Users/somitachaudhari/Adv AI /Data/Video/Machine Learning Tutorial Python - 4_ Gradient Descent and Cost Function (1).mp4\n",
      "MoviePy - Writing audio in /Users/somitachaudhari/Adv AI /Preprocessed Videos/Audio Files/Machine Learning Tutorial Python - 4_ Gradient Descent and Cost Function (1).wav\n"
     ]
    },
    {
     "name": "stderr",
     "output_type": "stream",
     "text": [
      "                                                                        \r"
     ]
    },
    {
     "name": "stdout",
     "output_type": "stream",
     "text": [
      "MoviePy - Done.\n",
      "Audio extracted for: /Users/somitachaudhari/Adv AI /Data/Video/Machine Learning Tutorial Python - 4_ Gradient Descent and Cost Function (1).mp4\n",
      "Processing: /Users/somitachaudhari/Adv AI /Data/Video/Machine Learning & Data Science Project - 2 _ Data Cleaning (Real Estate Price Prediction Project).mp4\n",
      "MoviePy - Writing audio in /Users/somitachaudhari/Adv AI /Preprocessed Videos/Audio Files/Machine Learning & Data Science Project - 2 _ Data Cleaning (Real Estate Price Prediction Project).wav\n"
     ]
    },
    {
     "name": "stderr",
     "output_type": "stream",
     "text": [
      "                                                                        \r"
     ]
    },
    {
     "name": "stdout",
     "output_type": "stream",
     "text": [
      "MoviePy - Done.\n",
      "Audio extracted for: /Users/somitachaudhari/Adv AI /Data/Video/Machine Learning & Data Science Project - 2 _ Data Cleaning (Real Estate Price Prediction Project).mp4\n",
      "Processing: /Users/somitachaudhari/Adv AI /Data/Video/Outlier detection and removal_ z score, standard deviation _ Feature engineering tutorial python # 3.mp4\n",
      "MoviePy - Writing audio in /Users/somitachaudhari/Adv AI /Preprocessed Videos/Audio Files/Outlier detection and removal_ z score, standard deviation _ Feature engineering tutorial python # 3.wav\n"
     ]
    },
    {
     "name": "stderr",
     "output_type": "stream",
     "text": [
      "                                                                        \r"
     ]
    },
    {
     "name": "stdout",
     "output_type": "stream",
     "text": [
      "MoviePy - Done.\n",
      "Audio extracted for: /Users/somitachaudhari/Adv AI /Data/Video/Outlier detection and removal_ z score, standard deviation _ Feature engineering tutorial python # 3.mp4\n",
      "Processing: /Users/somitachaudhari/Adv AI /Data/Video/Machine Learning & Data Science Project - 6 _ Python Flask Server (Real Estate Price Prediction).mp4\n",
      "MoviePy - Writing audio in /Users/somitachaudhari/Adv AI /Preprocessed Videos/Audio Files/Machine Learning & Data Science Project - 6 _ Python Flask Server (Real Estate Price Prediction).wav\n"
     ]
    },
    {
     "name": "stderr",
     "output_type": "stream",
     "text": [
      "                                                                        \r"
     ]
    },
    {
     "name": "stdout",
     "output_type": "stream",
     "text": [
      "MoviePy - Done.\n",
      "Audio extracted for: /Users/somitachaudhari/Adv AI /Data/Video/Machine Learning & Data Science Project - 6 _ Python Flask Server (Real Estate Price Prediction).mp4\n",
      "Processing: /Users/somitachaudhari/Adv AI /Data/Video/Stochastic Gradient Descent vs Batch Gradient Descent vs Mini Batch Gradient Descent _DL Tutorial 14.mp4\n",
      "MoviePy - Writing audio in /Users/somitachaudhari/Adv AI /Preprocessed Videos/Audio Files/Stochastic Gradient Descent vs Batch Gradient Descent vs Mini Batch Gradient Descent _DL Tutorial 14.wav\n"
     ]
    },
    {
     "name": "stderr",
     "output_type": "stream",
     "text": [
      "                                                                        \r"
     ]
    },
    {
     "name": "stdout",
     "output_type": "stream",
     "text": [
      "MoviePy - Done.\n",
      "Audio extracted for: /Users/somitachaudhari/Adv AI /Data/Video/Stochastic Gradient Descent vs Batch Gradient Descent vs Mini Batch Gradient Descent _DL Tutorial 14.mp4\n",
      "Processing: /Users/somitachaudhari/Adv AI /Data/Video/Neural Network For Handwritten Digits Classification _ Deep Learning Tutorial 7 (Tensorflow2.0) (1).mp4\n",
      "MoviePy - Writing audio in /Users/somitachaudhari/Adv AI /Preprocessed Videos/Audio Files/Neural Network For Handwritten Digits Classification _ Deep Learning Tutorial 7 (Tensorflow2.0) (1).wav\n"
     ]
    },
    {
     "name": "stderr",
     "output_type": "stream",
     "text": [
      "                                                                        \r"
     ]
    },
    {
     "name": "stdout",
     "output_type": "stream",
     "text": [
      "MoviePy - Done.\n",
      "Audio extracted for: /Users/somitachaudhari/Adv AI /Data/Video/Neural Network For Handwritten Digits Classification _ Deep Learning Tutorial 7 (Tensorflow2.0) (1).mp4\n",
      "Processing: /Users/somitachaudhari/Adv AI /Data/Video/videoplayback (online-video-cutter.com).mp4\n",
      "No audio track found in: /Users/somitachaudhari/Adv AI /Data/Video/videoplayback (online-video-cutter.com).mp4\n",
      "Processing: /Users/somitachaudhari/Adv AI /Data/Video/What is feature engineering _ Feature Engineering Tutorial Python # 1.mp4\n",
      "MoviePy - Writing audio in /Users/somitachaudhari/Adv AI /Preprocessed Videos/Audio Files/What is feature engineering _ Feature Engineering Tutorial Python # 1.wav\n"
     ]
    },
    {
     "name": "stderr",
     "output_type": "stream",
     "text": [
      "                                                                      \r"
     ]
    },
    {
     "name": "stdout",
     "output_type": "stream",
     "text": [
      "MoviePy - Done.\n",
      "Audio extracted for: /Users/somitachaudhari/Adv AI /Data/Video/What is feature engineering _ Feature Engineering Tutorial Python # 1.mp4\n",
      "Processing: /Users/somitachaudhari/Adv AI /Data/Video/Loss or Cost Function _ Deep Learning Tutorial 11 (Tensorflow Tutorial, Keras & Python).mp4\n",
      "MoviePy - Writing audio in /Users/somitachaudhari/Adv AI /Preprocessed Videos/Audio Files/Loss or Cost Function _ Deep Learning Tutorial 11 (Tensorflow Tutorial, Keras & Python).wav\n"
     ]
    },
    {
     "name": "stderr",
     "output_type": "stream",
     "text": [
      "                                                                        \r"
     ]
    },
    {
     "name": "stdout",
     "output_type": "stream",
     "text": [
      "MoviePy - Done.\n",
      "Audio extracted for: /Users/somitachaudhari/Adv AI /Data/Video/Loss or Cost Function _ Deep Learning Tutorial 11 (Tensorflow Tutorial, Keras & Python).mp4\n",
      "Processing: /Users/somitachaudhari/Adv AI /Data/Video/GPU bench-marking with image classification _ Deep Learning Tutorial 17 (Tensorflow2.0, Python).mp4\n",
      "MoviePy - Writing audio in /Users/somitachaudhari/Adv AI /Preprocessed Videos/Audio Files/GPU bench-marking with image classification _ Deep Learning Tutorial 17 (Tensorflow2.0, Python).wav\n"
     ]
    },
    {
     "name": "stderr",
     "output_type": "stream",
     "text": [
      "                                                                        \r"
     ]
    },
    {
     "name": "stdout",
     "output_type": "stream",
     "text": [
      "MoviePy - Done.\n",
      "Audio extracted for: /Users/somitachaudhari/Adv AI /Data/Video/GPU bench-marking with image classification _ Deep Learning Tutorial 17 (Tensorflow2.0, Python).mp4\n",
      "Processing: /Users/somitachaudhari/Adv AI /Data/Video/Machine Learning Tutorial Python - 8  Logistic Regression (Multiclass Classification).mp4\n",
      "MoviePy - Writing audio in /Users/somitachaudhari/Adv AI /Preprocessed Videos/Audio Files/Machine Learning Tutorial Python - 8  Logistic Regression (Multiclass Classification).wav\n"
     ]
    },
    {
     "name": "stderr",
     "output_type": "stream",
     "text": [
      "                                                                        \r"
     ]
    },
    {
     "name": "stdout",
     "output_type": "stream",
     "text": [
      "MoviePy - Done.\n",
      "Audio extracted for: /Users/somitachaudhari/Adv AI /Data/Video/Machine Learning Tutorial Python - 8  Logistic Regression (Multiclass Classification).mp4\n",
      "Processing: /Users/somitachaudhari/Adv AI /Data/Video/Precision, Recall, F1 score, True Positive_Deep Learning Tutorial 19 (Tensorflow2.0, Keras & Python).mp4\n",
      "MoviePy - Writing audio in /Users/somitachaudhari/Adv AI /Preprocessed Videos/Audio Files/Precision, Recall, F1 score, True Positive_Deep Learning Tutorial 19 (Tensorflow2.0, Keras & Python).wav\n"
     ]
    },
    {
     "name": "stderr",
     "output_type": "stream",
     "text": [
      "                                                                        \r"
     ]
    },
    {
     "name": "stdout",
     "output_type": "stream",
     "text": [
      "MoviePy - Done.\n",
      "Audio extracted for: /Users/somitachaudhari/Adv AI /Data/Video/Precision, Recall, F1 score, True Positive_Deep Learning Tutorial 19 (Tensorflow2.0, Keras & Python).mp4\n",
      "Processing: /Users/somitachaudhari/Adv AI /Data/Video/Gradient Descent For Neural Network _ Deep Learning Tutorial 12 (Tensorflow2.0, Keras & Python) (1).mp4\n",
      "MoviePy - Writing audio in /Users/somitachaudhari/Adv AI /Preprocessed Videos/Audio Files/Gradient Descent For Neural Network _ Deep Learning Tutorial 12 (Tensorflow2.0, Keras & Python) (1).wav\n"
     ]
    },
    {
     "name": "stderr",
     "output_type": "stream",
     "text": [
      "                                                                        \r"
     ]
    },
    {
     "name": "stdout",
     "output_type": "stream",
     "text": [
      "MoviePy - Done.\n",
      "Audio extracted for: /Users/somitachaudhari/Adv AI /Data/Video/Gradient Descent For Neural Network _ Deep Learning Tutorial 12 (Tensorflow2.0, Keras & Python) (1).mp4\n",
      "Processing: /Users/somitachaudhari/Adv AI /Data/Video/Machine Learning Tutorial Python - 6_ Dummy Variables & One Hot Encoding.mp4\n",
      "MoviePy - Writing audio in /Users/somitachaudhari/Adv AI /Preprocessed Videos/Audio Files/Machine Learning Tutorial Python - 6_ Dummy Variables & One Hot Encoding.wav\n"
     ]
    },
    {
     "name": "stderr",
     "output_type": "stream",
     "text": [
      "                                                                        \r"
     ]
    },
    {
     "name": "stdout",
     "output_type": "stream",
     "text": [
      "MoviePy - Done.\n",
      "Audio extracted for: /Users/somitachaudhari/Adv AI /Data/Video/Machine Learning Tutorial Python - 6_ Dummy Variables & One Hot Encoding.mp4\n",
      "Processing: /Users/somitachaudhari/Adv AI /Data/Video/Machine Learning Tutorial Python - 20_ Bias vs Variance In Machine Learning.mp4\n",
      "MoviePy - Writing audio in /Users/somitachaudhari/Adv AI /Preprocessed Videos/Audio Files/Machine Learning Tutorial Python - 20_ Bias vs Variance In Machine Learning.wav\n"
     ]
    },
    {
     "name": "stderr",
     "output_type": "stream",
     "text": [
      "                                                                        \r"
     ]
    },
    {
     "name": "stdout",
     "output_type": "stream",
     "text": [
      "MoviePy - Done.\n",
      "Audio extracted for: /Users/somitachaudhari/Adv AI /Data/Video/Machine Learning Tutorial Python - 20_ Bias vs Variance In Machine Learning.mp4\n",
      "Processing: /Users/somitachaudhari/Adv AI /Data/Video/Data Science & Machine Learning Project - Part 3 Data Cleaning _ Image Classification.mp4\n",
      "MoviePy - Writing audio in /Users/somitachaudhari/Adv AI /Preprocessed Videos/Audio Files/Data Science & Machine Learning Project - Part 3 Data Cleaning _ Image Classification.wav\n"
     ]
    },
    {
     "name": "stderr",
     "output_type": "stream",
     "text": [
      "                                                                        \r"
     ]
    },
    {
     "name": "stdout",
     "output_type": "stream",
     "text": [
      "MoviePy - Done.\n",
      "Audio extracted for: /Users/somitachaudhari/Adv AI /Data/Video/Data Science & Machine Learning Project - Part 3 Data Cleaning _ Image Classification.mp4\n",
      "Processing: /Users/somitachaudhari/Adv AI /Data/Video/Customer churn prediction using ANN _ Deep Learning Tutorial 18 (Tensorflow2.0, Keras & Python) (1).mp4\n",
      "MoviePy - Writing audio in /Users/somitachaudhari/Adv AI /Preprocessed Videos/Audio Files/Customer churn prediction using ANN _ Deep Learning Tutorial 18 (Tensorflow2.0, Keras & Python) (1).wav\n"
     ]
    },
    {
     "name": "stderr",
     "output_type": "stream",
     "text": [
      "                                                                        \r"
     ]
    },
    {
     "name": "stdout",
     "output_type": "stream",
     "text": [
      "MoviePy - Done.\n",
      "Audio extracted for: /Users/somitachaudhari/Adv AI /Data/Video/Customer churn prediction using ANN _ Deep Learning Tutorial 18 (Tensorflow2.0, Keras & Python) (1).mp4\n",
      "Processing: /Users/somitachaudhari/Adv AI /Data/Video/Activation Functions _ Deep Learning Tutorial 8 (Tensorflow Tutorial, Keras & Python).mp4\n",
      "MoviePy - Writing audio in /Users/somitachaudhari/Adv AI /Preprocessed Videos/Audio Files/Activation Functions _ Deep Learning Tutorial 8 (Tensorflow Tutorial, Keras & Python).wav\n"
     ]
    },
    {
     "name": "stderr",
     "output_type": "stream",
     "text": [
      "                                                                        \r"
     ]
    },
    {
     "name": "stdout",
     "output_type": "stream",
     "text": [
      "MoviePy - Done.\n",
      "Audio extracted for: /Users/somitachaudhari/Adv AI /Data/Video/Activation Functions _ Deep Learning Tutorial 8 (Tensorflow Tutorial, Keras & Python).mp4\n",
      "Processing: /Users/somitachaudhari/Adv AI /Data/Video/Neural Network Simply Explained _ Deep Learning Tutorial 4 (Tensorflow2.0, Keras & Python) (1).mp4\n",
      "MoviePy - Writing audio in /Users/somitachaudhari/Adv AI /Preprocessed Videos/Audio Files/Neural Network Simply Explained _ Deep Learning Tutorial 4 (Tensorflow2.0, Keras & Python) (1).wav\n"
     ]
    },
    {
     "name": "stderr",
     "output_type": "stream",
     "text": [
      "                                                                        \r"
     ]
    },
    {
     "name": "stdout",
     "output_type": "stream",
     "text": [
      "MoviePy - Done.\n",
      "Audio extracted for: /Users/somitachaudhari/Adv AI /Data/Video/Neural Network Simply Explained _ Deep Learning Tutorial 4 (Tensorflow2.0, Keras & Python) (1).mp4\n",
      "Processing: /Users/somitachaudhari/Adv AI /Data/Video/Artists create Zuckerberg 'deepfake' video.mp4\n",
      "MoviePy - Writing audio in /Users/somitachaudhari/Adv AI /Preprocessed Videos/Audio Files/Artists create Zuckerberg 'deepfake' video.wav\n"
     ]
    },
    {
     "name": "stderr",
     "output_type": "stream",
     "text": [
      "                                                                     \r"
     ]
    },
    {
     "name": "stdout",
     "output_type": "stream",
     "text": [
      "MoviePy - Done.\n",
      "Audio extracted for: /Users/somitachaudhari/Adv AI /Data/Video/Artists create Zuckerberg 'deepfake' video.mp4\n",
      "Processing: /Users/somitachaudhari/Adv AI /Data/Video/What is BERT_ _ Deep Learning Tutorial 46 (Tensorflow, Keras & Python).mp4\n",
      "MoviePy - Writing audio in /Users/somitachaudhari/Adv AI /Preprocessed Videos/Audio Files/What is BERT_ _ Deep Learning Tutorial 46 (Tensorflow, Keras & Python).wav\n"
     ]
    },
    {
     "name": "stderr",
     "output_type": "stream",
     "text": [
      "                                                                        \r"
     ]
    },
    {
     "name": "stdout",
     "output_type": "stream",
     "text": [
      "MoviePy - Done.\n",
      "Audio extracted for: /Users/somitachaudhari/Adv AI /Data/Video/What is BERT_ _ Deep Learning Tutorial 46 (Tensorflow, Keras & Python).mp4\n",
      "Processing: /Users/somitachaudhari/Adv AI /Data/Video/Outlier detection and removal using IQR _ Feature engineering tutorial python # 4.mp4\n",
      "MoviePy - Writing audio in /Users/somitachaudhari/Adv AI /Preprocessed Videos/Audio Files/Outlier detection and removal using IQR _ Feature engineering tutorial python # 4.wav\n"
     ]
    },
    {
     "name": "stderr",
     "output_type": "stream",
     "text": [
      "                                                                       "
     ]
    },
    {
     "name": "stdout",
     "output_type": "stream",
     "text": [
      "MoviePy - Done.\n",
      "Audio extracted for: /Users/somitachaudhari/Adv AI /Data/Video/Outlier detection and removal using IQR _ Feature engineering tutorial python # 4.mp4\n",
      "Processing completed.\n"
     ]
    },
    {
     "name": "stderr",
     "output_type": "stream",
     "text": [
      "\r"
     ]
    }
   ],
   "source": [
    "# Get all video files in the directory\n",
    "video_files = [os.path.join(video_dir, file) for file in os.listdir(video_dir) if file.endswith((\".mp4\", \".avi\", \".mkv\"))]\n",
    "\n",
    "# Loop through each video file and extract audio\n",
    "for video_path in video_files:\n",
    "    try:\n",
    "        print(f\"Processing: {video_path}\")\n",
    "        video = VideoFileClip(video_path)\n",
    "        \n",
    "        # Check if the video has an audio track\n",
    "        if video.audio:\n",
    "            audio_path = os.path.join(output_audio_dir, os.path.basename(video_path).replace('.mp4', '.wav'))\n",
    "            video.audio.write_audiofile(audio_path)\n",
    "            print(f\"Audio extracted for: {video_path}\")\n",
    "        else:\n",
    "            print(f\"No audio track found in: {video_path}\")\n",
    "\n",
    "    except Exception as e:\n",
    "        print(f\"MoviePy failed for: {video_path}, trying ffmpeg. Error: {e}\")\n",
    "\n",
    "        # Fallback to ffmpeg if MoviePy fails\n",
    "        try:\n",
    "            audio_path = os.path.join(output_audio_dir, os.path.basename(video_path).replace('.mp4', '.wav'))\n",
    "            subprocess.run([\"ffmpeg\", \"-i\", video_path, \"-q:a\", \"0\", \"-map\", \"a\", audio_path], check=True)\n",
    "            print(f\"Audio extracted with ffmpeg for: {video_path}\")\n",
    "        except subprocess.CalledProcessError as ffmpeg_error:\n",
    "            print(f\"Failed to extract audio using ffmpeg for: {video_path}. Error: {ffmpeg_error}\")\n",
    "\n",
    "print(\"Processing completed.\")\n"
   ]
  },
  {
   "cell_type": "code",
   "execution_count": 2,
   "id": "fcc3dee5-6ac2-47c0-bd02-56c92b9f6d39",
   "metadata": {},
   "outputs": [
    {
     "name": "stderr",
     "output_type": "stream",
     "text": [
      "/opt/anaconda3/lib/python3.12/site-packages/whisper/__init__.py:150: FutureWarning: You are using `torch.load` with `weights_only=False` (the current default value), which uses the default pickle module implicitly. It is possible to construct malicious pickle data which will execute arbitrary code during unpickling (See https://github.com/pytorch/pytorch/blob/main/SECURITY.md#untrusted-models for more details). In a future release, the default value for `weights_only` will be flipped to `True`. This limits the functions that could be executed during unpickling. Arbitrary objects will no longer be allowed to be loaded via this mode unless they are explicitly allowlisted by the user via `torch.serialization.add_safe_globals`. We recommend you start setting `weights_only=True` for any use case where you don't have full control of the loaded file. Please open an issue on GitHub for any issues related to this experimental feature.\n",
      "  checkpoint = torch.load(fp, map_location=device)\n"
     ]
    },
    {
     "name": "stdout",
     "output_type": "stream",
     "text": [
      "Processing file: /Users/somitachaudhari/Adv AI /Preprocessed Videos/Audio Files/Machine Learning & Data Science Project - 4 _ Outlier Removal (Real Estate Price Prediction Project).wav\n"
     ]
    },
    {
     "name": "stderr",
     "output_type": "stream",
     "text": [
      "/opt/anaconda3/lib/python3.12/site-packages/whisper/transcribe.py:132: UserWarning: FP16 is not supported on CPU; using FP32 instead\n",
      "  warnings.warn(\"FP16 is not supported on CPU; using FP32 instead\")\n"
     ]
    },
    {
     "name": "stdout",
     "output_type": "stream",
     "text": [
      "Transcription completed for: Machine Learning & Data Science Project - 4 _ Outlier Removal (Real Estate Price Prediction Project).wav\n",
      "Processing file: /Users/somitachaudhari/Adv AI /Preprocessed Videos/Audio Files/Outlier detection and removal using percentile _ Feature engineering tutorial python # 2.wav\n"
     ]
    },
    {
     "name": "stderr",
     "output_type": "stream",
     "text": [
      "/opt/anaconda3/lib/python3.12/site-packages/whisper/transcribe.py:132: UserWarning: FP16 is not supported on CPU; using FP32 instead\n",
      "  warnings.warn(\"FP16 is not supported on CPU; using FP32 instead\")\n"
     ]
    },
    {
     "name": "stdout",
     "output_type": "stream",
     "text": [
      "Transcription completed for: Outlier detection and removal using percentile _ Feature engineering tutorial python # 2.wav\n",
      "Processing file: /Users/somitachaudhari/Adv AI /Preprocessed Videos/Audio Files/Machine Learning Tutorial Python - 14_ Naive Bayes Classifier Algorithm Part 1.wav\n"
     ]
    },
    {
     "name": "stderr",
     "output_type": "stream",
     "text": [
      "/opt/anaconda3/lib/python3.12/site-packages/whisper/transcribe.py:132: UserWarning: FP16 is not supported on CPU; using FP32 instead\n",
      "  warnings.warn(\"FP16 is not supported on CPU; using FP32 instead\")\n"
     ]
    },
    {
     "name": "stdout",
     "output_type": "stream",
     "text": [
      "Transcription completed for: Machine Learning Tutorial Python - 14_ Naive Bayes Classifier Algorithm Part 1.wav\n",
      "Processing file: /Users/somitachaudhari/Adv AI /Preprocessed Videos/Audio Files/Machine Learning & Data Science Project - 5 _ Model Building (Real Estate Price Prediction Project).wav\n"
     ]
    },
    {
     "name": "stderr",
     "output_type": "stream",
     "text": [
      "/opt/anaconda3/lib/python3.12/site-packages/whisper/transcribe.py:132: UserWarning: FP16 is not supported on CPU; using FP32 instead\n",
      "  warnings.warn(\"FP16 is not supported on CPU; using FP32 instead\")\n"
     ]
    },
    {
     "name": "stdout",
     "output_type": "stream",
     "text": [
      "Transcription completed for: Machine Learning & Data Science Project - 5 _ Model Building (Real Estate Price Prediction Project).wav\n",
      "Processing file: /Users/somitachaudhari/Adv AI /Preprocessed Videos/Audio Files/Machine Learning Tutorial Python - 3_ Linear Regression Multiple Variables.wav\n"
     ]
    },
    {
     "name": "stderr",
     "output_type": "stream",
     "text": [
      "/opt/anaconda3/lib/python3.12/site-packages/whisper/transcribe.py:132: UserWarning: FP16 is not supported on CPU; using FP32 instead\n",
      "  warnings.warn(\"FP16 is not supported on CPU; using FP32 instead\")\n"
     ]
    },
    {
     "name": "stdout",
     "output_type": "stream",
     "text": [
      "Transcription completed for: Machine Learning Tutorial Python - 3_ Linear Regression Multiple Variables.wav\n",
      "Batch 1 completed. Pausing for 5 minutes...\n",
      "Processing file: /Users/somitachaudhari/Adv AI /Preprocessed Videos/Audio Files/Machine Learning Tutorial Python - 15_  Naive Bayes Classifier Algorithm Part 2.wav\n"
     ]
    },
    {
     "name": "stderr",
     "output_type": "stream",
     "text": [
      "/opt/anaconda3/lib/python3.12/site-packages/whisper/transcribe.py:132: UserWarning: FP16 is not supported on CPU; using FP32 instead\n",
      "  warnings.warn(\"FP16 is not supported on CPU; using FP32 instead\")\n"
     ]
    },
    {
     "name": "stdout",
     "output_type": "stream",
     "text": [
      "Transcription completed for: Machine Learning Tutorial Python - 15_  Naive Bayes Classifier Algorithm Part 2.wav\n",
      "Processing file: /Users/somitachaudhari/Adv AI /Preprocessed Videos/Audio Files/Machine Learning Tutorial Python - 11  Random Forest.wav\n"
     ]
    },
    {
     "name": "stderr",
     "output_type": "stream",
     "text": [
      "/opt/anaconda3/lib/python3.12/site-packages/whisper/transcribe.py:132: UserWarning: FP16 is not supported on CPU; using FP32 instead\n",
      "  warnings.warn(\"FP16 is not supported on CPU; using FP32 instead\")\n"
     ]
    },
    {
     "name": "stdout",
     "output_type": "stream",
     "text": [
      "Transcription completed for: Machine Learning Tutorial Python - 11  Random Forest.wav\n",
      "Processing file: /Users/somitachaudhari/Adv AI /Preprocessed Videos/Audio Files/Machine Learning Tutorial Python - 5_ Save Model Using Joblib And Pickle.wav\n"
     ]
    },
    {
     "name": "stderr",
     "output_type": "stream",
     "text": [
      "/opt/anaconda3/lib/python3.12/site-packages/whisper/transcribe.py:132: UserWarning: FP16 is not supported on CPU; using FP32 instead\n",
      "  warnings.warn(\"FP16 is not supported on CPU; using FP32 instead\")\n"
     ]
    },
    {
     "name": "stdout",
     "output_type": "stream",
     "text": [
      "Transcription completed for: Machine Learning Tutorial Python - 5_ Save Model Using Joblib And Pickle.wav\n",
      "Processing file: /Users/somitachaudhari/Adv AI /Preprocessed Videos/Audio Files/Data Science & Machine Learning Project - Part 3 Data Cleaning _ Image Classification (1).wav\n"
     ]
    },
    {
     "name": "stderr",
     "output_type": "stream",
     "text": [
      "/opt/anaconda3/lib/python3.12/site-packages/whisper/transcribe.py:132: UserWarning: FP16 is not supported on CPU; using FP32 instead\n",
      "  warnings.warn(\"FP16 is not supported on CPU; using FP32 instead\")\n"
     ]
    },
    {
     "name": "stdout",
     "output_type": "stream",
     "text": [
      "Transcription completed for: Data Science & Machine Learning Project - Part 3 Data Cleaning _ Image Classification (1).wav\n",
      "Processing file: /Users/somitachaudhari/Adv AI /Preprocessed Videos/Audio Files/Machine Learning Tutorial Python - 16_ Hyper parameter Tuning (GridSearchCV) (1).wav\n"
     ]
    },
    {
     "name": "stderr",
     "output_type": "stream",
     "text": [
      "/opt/anaconda3/lib/python3.12/site-packages/whisper/transcribe.py:132: UserWarning: FP16 is not supported on CPU; using FP32 instead\n",
      "  warnings.warn(\"FP16 is not supported on CPU; using FP32 instead\")\n"
     ]
    },
    {
     "name": "stdout",
     "output_type": "stream",
     "text": [
      "Transcription completed for: Machine Learning Tutorial Python - 16_ Hyper parameter Tuning (GridSearchCV) (1).wav\n",
      "Batch 2 completed. Pausing for 5 minutes...\n",
      "Processing file: /Users/somitachaudhari/Adv AI /Preprocessed Videos/Audio Files/Machine Learning Tutorial Python - 7_ Training and Testing Data.wav\n"
     ]
    },
    {
     "name": "stderr",
     "output_type": "stream",
     "text": [
      "/opt/anaconda3/lib/python3.12/site-packages/whisper/transcribe.py:132: UserWarning: FP16 is not supported on CPU; using FP32 instead\n",
      "  warnings.warn(\"FP16 is not supported on CPU; using FP32 instead\")\n"
     ]
    },
    {
     "name": "stdout",
     "output_type": "stream",
     "text": [
      "Transcription completed for: Machine Learning Tutorial Python - 7_ Training and Testing Data.wav\n",
      "Processing file: /Users/somitachaudhari/Adv AI /Preprocessed Videos/Audio Files/Data Science & Machine Learning Project - Part 6 Flask Server _ Image Classification.wav\n"
     ]
    },
    {
     "name": "stderr",
     "output_type": "stream",
     "text": [
      "/opt/anaconda3/lib/python3.12/site-packages/whisper/transcribe.py:132: UserWarning: FP16 is not supported on CPU; using FP32 instead\n",
      "  warnings.warn(\"FP16 is not supported on CPU; using FP32 instead\")\n"
     ]
    },
    {
     "name": "stdout",
     "output_type": "stream",
     "text": [
      "Transcription completed for: Data Science & Machine Learning Project - Part 6 Flask Server _ Image Classification.wav\n",
      "Processing file: /Users/somitachaudhari/Adv AI /Preprocessed Videos/Audio Files/Data Science & Machine Learning Project - Part 5 Training a Model _ Image Classification.wav\n"
     ]
    },
    {
     "name": "stderr",
     "output_type": "stream",
     "text": [
      "/opt/anaconda3/lib/python3.12/site-packages/whisper/transcribe.py:132: UserWarning: FP16 is not supported on CPU; using FP32 instead\n",
      "  warnings.warn(\"FP16 is not supported on CPU; using FP32 instead\")\n"
     ]
    },
    {
     "name": "stdout",
     "output_type": "stream",
     "text": [
      "Transcription completed for: Data Science & Machine Learning Project - Part 5 Training a Model _ Image Classification.wav\n",
      "Processing file: /Users/somitachaudhari/Adv AI /Preprocessed Videos/Audio Files/Machine Learning Tutorial Python 12 - K Fold Cross Validation.wav\n"
     ]
    },
    {
     "name": "stderr",
     "output_type": "stream",
     "text": [
      "/opt/anaconda3/lib/python3.12/site-packages/whisper/transcribe.py:132: UserWarning: FP16 is not supported on CPU; using FP32 instead\n",
      "  warnings.warn(\"FP16 is not supported on CPU; using FP32 instead\")\n"
     ]
    },
    {
     "name": "stdout",
     "output_type": "stream",
     "text": [
      "Transcription completed for: Machine Learning Tutorial Python 12 - K Fold Cross Validation.wav\n",
      "Processing file: /Users/somitachaudhari/Adv AI /Preprocessed Videos/Audio Files/Machine Learning & Data Science Project - 2 _ Data Cleaning (Real Estate Price Prediction Project).wav\n"
     ]
    },
    {
     "name": "stderr",
     "output_type": "stream",
     "text": [
      "/opt/anaconda3/lib/python3.12/site-packages/whisper/transcribe.py:132: UserWarning: FP16 is not supported on CPU; using FP32 instead\n",
      "  warnings.warn(\"FP16 is not supported on CPU; using FP32 instead\")\n"
     ]
    },
    {
     "name": "stdout",
     "output_type": "stream",
     "text": [
      "Transcription completed for: Machine Learning & Data Science Project - 2 _ Data Cleaning (Real Estate Price Prediction Project).wav\n",
      "Batch 3 completed. Pausing for 5 minutes...\n",
      "Processing file: /Users/somitachaudhari/Adv AI /Preprocessed Videos/Audio Files/Data Science & Machine Learning Project - Part 7 Build Website _ Image Classification.wav\n"
     ]
    },
    {
     "name": "stderr",
     "output_type": "stream",
     "text": [
      "/opt/anaconda3/lib/python3.12/site-packages/whisper/transcribe.py:132: UserWarning: FP16 is not supported on CPU; using FP32 instead\n",
      "  warnings.warn(\"FP16 is not supported on CPU; using FP32 instead\")\n"
     ]
    },
    {
     "name": "stdout",
     "output_type": "stream",
     "text": [
      "Transcription completed for: Data Science & Machine Learning Project - Part 7 Build Website _ Image Classification.wav\n",
      "Processing file: /Users/somitachaudhari/Adv AI /Preprocessed Videos/Audio Files/Machine Learning Tutorial Python - 16_ Hyper parameter Tuning (GridSearchCV).wav\n"
     ]
    },
    {
     "name": "stderr",
     "output_type": "stream",
     "text": [
      "/opt/anaconda3/lib/python3.12/site-packages/whisper/transcribe.py:132: UserWarning: FP16 is not supported on CPU; using FP32 instead\n",
      "  warnings.warn(\"FP16 is not supported on CPU; using FP32 instead\")\n"
     ]
    },
    {
     "name": "stdout",
     "output_type": "stream",
     "text": [
      "Transcription completed for: Machine Learning Tutorial Python - 16_ Hyper parameter Tuning (GridSearchCV).wav\n",
      "Processing file: /Users/somitachaudhari/Adv AI /Preprocessed Videos/Audio Files/Machine Learning Tutorial Python - 17_ L1 and L2 Regularization _ Lasso, Ridge Regression.wav\n"
     ]
    },
    {
     "name": "stderr",
     "output_type": "stream",
     "text": [
      "/opt/anaconda3/lib/python3.12/site-packages/whisper/transcribe.py:132: UserWarning: FP16 is not supported on CPU; using FP32 instead\n",
      "  warnings.warn(\"FP16 is not supported on CPU; using FP32 instead\")\n"
     ]
    },
    {
     "name": "stdout",
     "output_type": "stream",
     "text": [
      "Transcription completed for: Machine Learning Tutorial Python - 17_ L1 and L2 Regularization _ Lasso, Ridge Regression.wav\n",
      "Processing file: /Users/somitachaudhari/Adv AI /Preprocessed Videos/Audio Files/Machine Learning Tutorial Python - 14_ Naive Bayes Classifier Algorithm Part 1 (1).wav\n"
     ]
    },
    {
     "name": "stderr",
     "output_type": "stream",
     "text": [
      "/opt/anaconda3/lib/python3.12/site-packages/whisper/transcribe.py:132: UserWarning: FP16 is not supported on CPU; using FP32 instead\n",
      "  warnings.warn(\"FP16 is not supported on CPU; using FP32 instead\")\n"
     ]
    },
    {
     "name": "stdout",
     "output_type": "stream",
     "text": [
      "Transcription completed for: Machine Learning Tutorial Python - 14_ Naive Bayes Classifier Algorithm Part 1 (1).wav\n",
      "Processing file: /Users/somitachaudhari/Adv AI /Preprocessed Videos/Audio Files/Data Science & Machine Learning Project - Part 2 Data Collection _ Image Classification.wav\n"
     ]
    },
    {
     "name": "stderr",
     "output_type": "stream",
     "text": [
      "/opt/anaconda3/lib/python3.12/site-packages/whisper/transcribe.py:132: UserWarning: FP16 is not supported on CPU; using FP32 instead\n",
      "  warnings.warn(\"FP16 is not supported on CPU; using FP32 instead\")\n"
     ]
    },
    {
     "name": "stdout",
     "output_type": "stream",
     "text": [
      "Transcription completed for: Data Science & Machine Learning Project - Part 2 Data Collection _ Image Classification.wav\n",
      "Batch 4 completed. Pausing for 5 minutes...\n",
      "Processing file: /Users/somitachaudhari/Adv AI /Preprocessed Videos/Audio Files/What is feature engineering _ Feature Engineering Tutorial Python # 1.wav\n"
     ]
    },
    {
     "name": "stderr",
     "output_type": "stream",
     "text": [
      "/opt/anaconda3/lib/python3.12/site-packages/whisper/transcribe.py:132: UserWarning: FP16 is not supported on CPU; using FP32 instead\n",
      "  warnings.warn(\"FP16 is not supported on CPU; using FP32 instead\")\n"
     ]
    },
    {
     "name": "stdout",
     "output_type": "stream",
     "text": [
      "Transcription completed for: What is feature engineering _ Feature Engineering Tutorial Python # 1.wav\n",
      "Processing file: /Users/somitachaudhari/Adv AI /Preprocessed Videos/Audio Files/Machine Learning & Data Science Project - 6 _ Python Flask Server (Real Estate Price Prediction).wav\n"
     ]
    },
    {
     "name": "stderr",
     "output_type": "stream",
     "text": [
      "/opt/anaconda3/lib/python3.12/site-packages/whisper/transcribe.py:132: UserWarning: FP16 is not supported on CPU; using FP32 instead\n",
      "  warnings.warn(\"FP16 is not supported on CPU; using FP32 instead\")\n"
     ]
    },
    {
     "name": "stdout",
     "output_type": "stream",
     "text": [
      "Transcription completed for: Machine Learning & Data Science Project - 6 _ Python Flask Server (Real Estate Price Prediction).wav\n",
      "Processing file: /Users/somitachaudhari/Adv AI /Preprocessed Videos/Audio Files/Outlier detection and removal_ z score, standard deviation _ Feature engineering tutorial python # 3.wav\n"
     ]
    },
    {
     "name": "stderr",
     "output_type": "stream",
     "text": [
      "/opt/anaconda3/lib/python3.12/site-packages/whisper/transcribe.py:132: UserWarning: FP16 is not supported on CPU; using FP32 instead\n",
      "  warnings.warn(\"FP16 is not supported on CPU; using FP32 instead\")\n"
     ]
    },
    {
     "name": "stdout",
     "output_type": "stream",
     "text": [
      "Transcription completed for: Outlier detection and removal_ z score, standard deviation _ Feature engineering tutorial python # 3.wav\n",
      "Processing file: /Users/somitachaudhari/Adv AI /Preprocessed Videos/Audio Files/Machine Learning Tutorial Python - 6_ Dummy Variables & One Hot Encoding.wav\n"
     ]
    },
    {
     "name": "stderr",
     "output_type": "stream",
     "text": [
      "/opt/anaconda3/lib/python3.12/site-packages/whisper/transcribe.py:132: UserWarning: FP16 is not supported on CPU; using FP32 instead\n",
      "  warnings.warn(\"FP16 is not supported on CPU; using FP32 instead\")\n"
     ]
    },
    {
     "name": "stdout",
     "output_type": "stream",
     "text": [
      "Transcription completed for: Machine Learning Tutorial Python - 6_ Dummy Variables & One Hot Encoding.wav\n",
      "Processing file: /Users/somitachaudhari/Adv AI /Preprocessed Videos/Audio Files/Machine Learning Tutorial Python - 8  Logistic Regression (Multiclass Classification).wav\n"
     ]
    },
    {
     "name": "stderr",
     "output_type": "stream",
     "text": [
      "/opt/anaconda3/lib/python3.12/site-packages/whisper/transcribe.py:132: UserWarning: FP16 is not supported on CPU; using FP32 instead\n",
      "  warnings.warn(\"FP16 is not supported on CPU; using FP32 instead\")\n"
     ]
    },
    {
     "name": "stdout",
     "output_type": "stream",
     "text": [
      "Transcription completed for: Machine Learning Tutorial Python - 8  Logistic Regression (Multiclass Classification).wav\n",
      "Batch 5 completed. Pausing for 5 minutes...\n",
      "Processing file: /Users/somitachaudhari/Adv AI /Preprocessed Videos/Audio Files/Outlier detection and removal using IQR _ Feature engineering tutorial python # 4.wav\n"
     ]
    },
    {
     "name": "stderr",
     "output_type": "stream",
     "text": [
      "/opt/anaconda3/lib/python3.12/site-packages/whisper/transcribe.py:132: UserWarning: FP16 is not supported on CPU; using FP32 instead\n",
      "  warnings.warn(\"FP16 is not supported on CPU; using FP32 instead\")\n"
     ]
    },
    {
     "name": "stdout",
     "output_type": "stream",
     "text": [
      "Transcription completed for: Outlier detection and removal using IQR _ Feature engineering tutorial python # 4.wav\n",
      "Processing file: /Users/somitachaudhari/Adv AI /Preprocessed Videos/Audio Files/Machine Learning Tutorial Python - 20_ Bias vs Variance In Machine Learning.wav\n"
     ]
    },
    {
     "name": "stderr",
     "output_type": "stream",
     "text": [
      "/opt/anaconda3/lib/python3.12/site-packages/whisper/transcribe.py:132: UserWarning: FP16 is not supported on CPU; using FP32 instead\n",
      "  warnings.warn(\"FP16 is not supported on CPU; using FP32 instead\")\n"
     ]
    },
    {
     "name": "stdout",
     "output_type": "stream",
     "text": [
      "Transcription completed for: Machine Learning Tutorial Python - 20_ Bias vs Variance In Machine Learning.wav\n",
      "Processing file: /Users/somitachaudhari/Adv AI /Preprocessed Videos/Audio Files/Data Science & Machine Learning Project - Part 3 Data Cleaning _ Image Classification.wav\n"
     ]
    },
    {
     "name": "stderr",
     "output_type": "stream",
     "text": [
      "/opt/anaconda3/lib/python3.12/site-packages/whisper/transcribe.py:132: UserWarning: FP16 is not supported on CPU; using FP32 instead\n",
      "  warnings.warn(\"FP16 is not supported on CPU; using FP32 instead\")\n"
     ]
    },
    {
     "name": "stdout",
     "output_type": "stream",
     "text": [
      "Transcription completed for: Data Science & Machine Learning Project - Part 3 Data Cleaning _ Image Classification.wav\n",
      "Processing file: /Users/somitachaudhari/Adv AI /Preprocessed Videos/Audio Files/Machine Learning Tutorial Python - 13_  K Means Clustering Algorithm.wav\n"
     ]
    },
    {
     "name": "stderr",
     "output_type": "stream",
     "text": [
      "/opt/anaconda3/lib/python3.12/site-packages/whisper/transcribe.py:132: UserWarning: FP16 is not supported on CPU; using FP32 instead\n",
      "  warnings.warn(\"FP16 is not supported on CPU; using FP32 instead\")\n"
     ]
    },
    {
     "name": "stdout",
     "output_type": "stream",
     "text": [
      "Transcription completed for: Machine Learning Tutorial Python - 13_  K Means Clustering Algorithm.wav\n",
      "Processing file: /Users/somitachaudhari/Adv AI /Preprocessed Videos/Audio Files/Machine Learning Tutorial Python - 8_  Logistic Regression (Binary Classification).wav\n"
     ]
    },
    {
     "name": "stderr",
     "output_type": "stream",
     "text": [
      "/opt/anaconda3/lib/python3.12/site-packages/whisper/transcribe.py:132: UserWarning: FP16 is not supported on CPU; using FP32 instead\n",
      "  warnings.warn(\"FP16 is not supported on CPU; using FP32 instead\")\n"
     ]
    },
    {
     "name": "stdout",
     "output_type": "stream",
     "text": [
      "Transcription completed for: Machine Learning Tutorial Python - 8_  Logistic Regression (Binary Classification).wav\n",
      "Batch 6 completed. Pausing for 5 minutes...\n",
      "Processing file: /Users/somitachaudhari/Adv AI /Preprocessed Videos/Audio Files/Machine Learning Tutorial Python - 20_ Bias vs Variance In Machine Learning (1).wav\n"
     ]
    },
    {
     "name": "stderr",
     "output_type": "stream",
     "text": [
      "/opt/anaconda3/lib/python3.12/site-packages/whisper/transcribe.py:132: UserWarning: FP16 is not supported on CPU; using FP32 instead\n",
      "  warnings.warn(\"FP16 is not supported on CPU; using FP32 instead\")\n"
     ]
    },
    {
     "name": "stdout",
     "output_type": "stream",
     "text": [
      "Transcription completed for: Machine Learning Tutorial Python - 20_ Bias vs Variance In Machine Learning (1).wav\n",
      "Processing file: /Users/somitachaudhari/Adv AI /Preprocessed Videos/Audio Files/Machine Learning Tutorial Python - 2_ Linear Regression Single Variable.wav\n"
     ]
    },
    {
     "name": "stderr",
     "output_type": "stream",
     "text": [
      "/opt/anaconda3/lib/python3.12/site-packages/whisper/transcribe.py:132: UserWarning: FP16 is not supported on CPU; using FP32 instead\n",
      "  warnings.warn(\"FP16 is not supported on CPU; using FP32 instead\")\n"
     ]
    },
    {
     "name": "stdout",
     "output_type": "stream",
     "text": [
      "Transcription completed for: Machine Learning Tutorial Python - 2_ Linear Regression Single Variable.wav\n",
      "Processing file: /Users/somitachaudhari/Adv AI /Preprocessed Videos/Audio Files/Data Science & Machine Learning Project - Part 8 Deployment & Exercise _ Image Classification.wav\n"
     ]
    },
    {
     "name": "stderr",
     "output_type": "stream",
     "text": [
      "/opt/anaconda3/lib/python3.12/site-packages/whisper/transcribe.py:132: UserWarning: FP16 is not supported on CPU; using FP32 instead\n",
      "  warnings.warn(\"FP16 is not supported on CPU; using FP32 instead\")\n"
     ]
    },
    {
     "name": "stdout",
     "output_type": "stream",
     "text": [
      "Transcription completed for: Data Science & Machine Learning Project - Part 8 Deployment & Exercise _ Image Classification.wav\n",
      "Processing file: /Users/somitachaudhari/Adv AI /Preprocessed Videos/Audio Files/Data Science & Machine Learning Project - Part 1 Introduction _ Image Classification.wav\n"
     ]
    },
    {
     "name": "stderr",
     "output_type": "stream",
     "text": [
      "/opt/anaconda3/lib/python3.12/site-packages/whisper/transcribe.py:132: UserWarning: FP16 is not supported on CPU; using FP32 instead\n",
      "  warnings.warn(\"FP16 is not supported on CPU; using FP32 instead\")\n"
     ]
    },
    {
     "name": "stdout",
     "output_type": "stream",
     "text": [
      "Transcription completed for: Data Science & Machine Learning Project - Part 1 Introduction _ Image Classification.wav\n",
      "Processing file: /Users/somitachaudhari/Adv AI /Preprocessed Videos/Audio Files/Machine Learning Tutorial Python - 18_ K nearest neighbors classification with python code.wav\n"
     ]
    },
    {
     "name": "stderr",
     "output_type": "stream",
     "text": [
      "/opt/anaconda3/lib/python3.12/site-packages/whisper/transcribe.py:132: UserWarning: FP16 is not supported on CPU; using FP32 instead\n",
      "  warnings.warn(\"FP16 is not supported on CPU; using FP32 instead\")\n"
     ]
    },
    {
     "name": "stdout",
     "output_type": "stream",
     "text": [
      "Transcription completed for: Machine Learning Tutorial Python - 18_ K nearest neighbors classification with python code.wav\n",
      "Batch 7 completed. Pausing for 5 minutes...\n",
      "Processing file: /Users/somitachaudhari/Adv AI /Preprocessed Videos/Audio Files/Machine Learning Tutorial Python - 19_ Principal Component Analysis (PCA) with Python Code.wav\n"
     ]
    },
    {
     "name": "stderr",
     "output_type": "stream",
     "text": [
      "/opt/anaconda3/lib/python3.12/site-packages/whisper/transcribe.py:132: UserWarning: FP16 is not supported on CPU; using FP32 instead\n",
      "  warnings.warn(\"FP16 is not supported on CPU; using FP32 instead\")\n"
     ]
    },
    {
     "name": "stdout",
     "output_type": "stream",
     "text": [
      "Transcription completed for: Machine Learning Tutorial Python - 19_ Principal Component Analysis (PCA) with Python Code.wav\n",
      "Processing file: /Users/somitachaudhari/Adv AI /Preprocessed Videos/Audio Files/Deploy machine learning model to production AWS (Amazon EC2 instance).wav\n"
     ]
    },
    {
     "name": "stderr",
     "output_type": "stream",
     "text": [
      "/opt/anaconda3/lib/python3.12/site-packages/whisper/transcribe.py:132: UserWarning: FP16 is not supported on CPU; using FP32 instead\n",
      "  warnings.warn(\"FP16 is not supported on CPU; using FP32 instead\")\n"
     ]
    },
    {
     "name": "stdout",
     "output_type": "stream",
     "text": [
      "Transcription completed for: Deploy machine learning model to production AWS (Amazon EC2 instance).wav\n",
      "Processing file: /Users/somitachaudhari/Adv AI /Preprocessed Videos/Audio Files/Machine Learning & Data Science Project - 1 _ Introduction (Real Estate Price Prediction Project).wav\n"
     ]
    },
    {
     "name": "stderr",
     "output_type": "stream",
     "text": [
      "/opt/anaconda3/lib/python3.12/site-packages/whisper/transcribe.py:132: UserWarning: FP16 is not supported on CPU; using FP32 instead\n",
      "  warnings.warn(\"FP16 is not supported on CPU; using FP32 instead\")\n"
     ]
    },
    {
     "name": "stdout",
     "output_type": "stream",
     "text": [
      "Transcription completed for: Machine Learning & Data Science Project - 1 _ Introduction (Real Estate Price Prediction Project).wav\n",
      "Processing file: /Users/somitachaudhari/Adv AI /Preprocessed Videos/Audio Files/Machine Learning & Data Science Project - 7 _ Website or UI (Real Estate Price Prediction Project).wav\n"
     ]
    },
    {
     "name": "stderr",
     "output_type": "stream",
     "text": [
      "/opt/anaconda3/lib/python3.12/site-packages/whisper/transcribe.py:132: UserWarning: FP16 is not supported on CPU; using FP32 instead\n",
      "  warnings.warn(\"FP16 is not supported on CPU; using FP32 instead\")\n"
     ]
    },
    {
     "name": "stdout",
     "output_type": "stream",
     "text": [
      "Transcription completed for: Machine Learning & Data Science Project - 7 _ Website or UI (Real Estate Price Prediction Project).wav\n",
      "Processing file: /Users/somitachaudhari/Adv AI /Preprocessed Videos/Audio Files/Machine Learning Tutorial Python - 21_ Ensemble Learning - Bagging.wav\n"
     ]
    },
    {
     "name": "stderr",
     "output_type": "stream",
     "text": [
      "/opt/anaconda3/lib/python3.12/site-packages/whisper/transcribe.py:132: UserWarning: FP16 is not supported on CPU; using FP32 instead\n",
      "  warnings.warn(\"FP16 is not supported on CPU; using FP32 instead\")\n"
     ]
    },
    {
     "name": "stdout",
     "output_type": "stream",
     "text": [
      "Transcription completed for: Machine Learning Tutorial Python - 21_ Ensemble Learning - Bagging.wav\n",
      "Batch 8 completed. Pausing for 5 minutes...\n",
      "Processing file: /Users/somitachaudhari/Adv AI /Preprocessed Videos/Audio Files/Machine Learning & Data Science Project - 3 _ Feature Engineering (Real Estate Price Prediction).wav\n"
     ]
    },
    {
     "name": "stderr",
     "output_type": "stream",
     "text": [
      "/opt/anaconda3/lib/python3.12/site-packages/whisper/transcribe.py:132: UserWarning: FP16 is not supported on CPU; using FP32 instead\n",
      "  warnings.warn(\"FP16 is not supported on CPU; using FP32 instead\")\n"
     ]
    },
    {
     "name": "stdout",
     "output_type": "stream",
     "text": [
      "Transcription completed for: Machine Learning & Data Science Project - 3 _ Feature Engineering (Real Estate Price Prediction).wav\n",
      "Processing file: /Users/somitachaudhari/Adv AI /Preprocessed Videos/Audio Files/Machine Learning Tutorial Python - 10  Support Vector Machine (SVM).wav\n"
     ]
    },
    {
     "name": "stderr",
     "output_type": "stream",
     "text": [
      "/opt/anaconda3/lib/python3.12/site-packages/whisper/transcribe.py:132: UserWarning: FP16 is not supported on CPU; using FP32 instead\n",
      "  warnings.warn(\"FP16 is not supported on CPU; using FP32 instead\")\n"
     ]
    },
    {
     "name": "stdout",
     "output_type": "stream",
     "text": [
      "Transcription completed for: Machine Learning Tutorial Python - 10  Support Vector Machine (SVM).wav\n",
      "Processing file: /Users/somitachaudhari/Adv AI /Preprocessed Videos/Audio Files/Data Science & Machine Learning Project - Part 4 Feature Engineering _ Image Classification.wav\n"
     ]
    },
    {
     "name": "stderr",
     "output_type": "stream",
     "text": [
      "/opt/anaconda3/lib/python3.12/site-packages/whisper/transcribe.py:132: UserWarning: FP16 is not supported on CPU; using FP32 instead\n",
      "  warnings.warn(\"FP16 is not supported on CPU; using FP32 instead\")\n"
     ]
    },
    {
     "name": "stdout",
     "output_type": "stream",
     "text": [
      "Transcription completed for: Data Science & Machine Learning Project - Part 4 Feature Engineering _ Image Classification.wav\n",
      "Processing file: /Users/somitachaudhari/Adv AI /Preprocessed Videos/Audio Files/Machine Learning Tutorial Python - 9  Decision Tree.wav\n"
     ]
    },
    {
     "name": "stderr",
     "output_type": "stream",
     "text": [
      "/opt/anaconda3/lib/python3.12/site-packages/whisper/transcribe.py:132: UserWarning: FP16 is not supported on CPU; using FP32 instead\n",
      "  warnings.warn(\"FP16 is not supported on CPU; using FP32 instead\")\n"
     ]
    },
    {
     "name": "stdout",
     "output_type": "stream",
     "text": [
      "Transcription completed for: Machine Learning Tutorial Python - 9  Decision Tree.wav\n",
      "All transcripts have been saved to /Users/somitachaudhari/Adv AI /Preprocessed Videos/transcripts.json\n"
     ]
    }
   ],
   "source": [
    "import os\n",
    "import whisper\n",
    "import json\n",
    "import time\n",
    "\n",
    "\n",
    "audio_dir = \"/Users/somitachaudhari/Adv AI /Preprocessed Videos/Audio Files\"\n",
    "output_json_path = \"/Users/somitachaudhari/Adv AI /Preprocessed Videos/transcripts.json\"\n",
    "\n",
    "# Whisper model\n",
    "model = whisper.load_model(\"base\") \n",
    "\n",
    "# Dictionary for transcripts\n",
    "transcripts = {}\n",
    "\n",
    "# Batch settings\n",
    "batch_size = 5 \n",
    "batch_pause = 420  \n",
    "\n",
    "# Processing files\n",
    "wav_files = [f for f in os.listdir(audio_dir) if f.endswith(\".wav\")]\n",
    "for i, audio_file in enumerate(wav_files):\n",
    "    audio_path = os.path.join(audio_dir, audio_file)\n",
    "    print(f\"Processing file: {audio_path}\")\n",
    "\n",
    "    try:\n",
    "        result = model.transcribe(audio_path)\n",
    "        transcripts[audio_file] = result[\"text\"]\n",
    "        print(f\"Transcription completed for: {audio_file}\")\n",
    "    except Exception as e:\n",
    "        print(f\"Error processing {audio_file}: {e}\")\n",
    "\n",
    "    # Pause after a batch\n",
    "    if (i + 1) % batch_size == 0:\n",
    "        print(f\"Batch {(i + 1) // batch_size} completed. Pausing for 5 minutes...\")\n",
    "        time.sleep(batch_pause)\n",
    "\n",
    "# Save transcripts\n",
    "with open(output_json_path, \"w\") as json_file:\n",
    "    json.dump(transcripts, json_file, indent=4)\n",
    "\n",
    "print(f\"All transcripts have been saved to {output_json_path}\")\n"
   ]
  },
  {
   "cell_type": "code",
   "execution_count": null,
   "id": "b58c8746-b3eb-4cdb-aea4-023ddfdb5cf4",
   "metadata": {},
   "outputs": [],
   "source": []
  }
 ],
 "metadata": {
  "kernelspec": {
   "display_name": "Python 3 (ipykernel)",
   "language": "python",
   "name": "python3"
  },
  "language_info": {
   "codemirror_mode": {
    "name": "ipython",
    "version": 3
   },
   "file_extension": ".py",
   "mimetype": "text/x-python",
   "name": "python",
   "nbconvert_exporter": "python",
   "pygments_lexer": "ipython3",
   "version": "3.12.2"
  }
 },
 "nbformat": 4,
 "nbformat_minor": 5
}
